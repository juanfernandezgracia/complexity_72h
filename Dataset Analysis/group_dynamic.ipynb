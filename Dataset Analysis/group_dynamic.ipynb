{
 "cells": [
  {
   "cell_type": "code",
   "execution_count": 1,
   "id": "7e82c59d",
   "metadata": {},
   "outputs": [],
   "source": [
    "import pandas as pd\n",
    "import pickle as pk\n",
    "import seaborn as sns\n",
    "import matplotlib.pyplot as plt\n",
    "from collections import Counter\n",
    "import numpy as np"
   ]
  },
  {
   "cell_type": "code",
   "execution_count": 2,
   "id": "d953e596",
   "metadata": {},
   "outputs": [],
   "source": [
    "from tqdm import tqdm"
   ]
  },
  {
   "cell_type": "code",
   "execution_count": 3,
   "id": "e349ea6d",
   "metadata": {},
   "outputs": [],
   "source": [
    "#pd.read_csv(\"coauth-MAG-Geology-node-labels.txt\", on_bad_lines='skip', header = None)"
   ]
  },
  {
   "cell_type": "code",
   "execution_count": 4,
   "id": "8f031f45",
   "metadata": {},
   "outputs": [],
   "source": [
    "#pd.read_csv(\"coauth-MAG-Geology-simplex-labels.txt\", on_bad_lines='skip', header = None, sep = \"\\t\")"
   ]
  },
  {
   "cell_type": "code",
   "execution_count": 104,
   "id": "e07797db",
   "metadata": {},
   "outputs": [
    {
     "ename": "FileNotFoundError",
     "evalue": "[Errno 2] No such file or directory: '../Dataset/dataframe.pkl'",
     "output_type": "error",
     "traceback": [
      "\u001b[0;31m---------------------------------------------------------------------------\u001b[0m",
      "\u001b[0;31mFileNotFoundError\u001b[0m                         Traceback (most recent call last)",
      "\u001b[0;32m/tmp/ipykernel_8435/520914270.py\u001b[0m in \u001b[0;36m<module>\u001b[0;34m\u001b[0m\n\u001b[0;32m----> 1\u001b[0;31m \u001b[0;32mwith\u001b[0m \u001b[0mopen\u001b[0m\u001b[0;34m(\u001b[0m\u001b[0;34mr'../Dataset/dataframe.pkl'\u001b[0m\u001b[0;34m,\u001b[0m \u001b[0;34m'rb'\u001b[0m\u001b[0;34m)\u001b[0m \u001b[0;32mas\u001b[0m \u001b[0mf\u001b[0m\u001b[0;34m:\u001b[0m\u001b[0;34m\u001b[0m\u001b[0;34m\u001b[0m\u001b[0m\n\u001b[0m\u001b[1;32m      2\u001b[0m     \u001b[0mdf\u001b[0m \u001b[0;34m=\u001b[0m \u001b[0mpk\u001b[0m\u001b[0;34m.\u001b[0m\u001b[0mload\u001b[0m\u001b[0;34m(\u001b[0m\u001b[0mf\u001b[0m\u001b[0;34m)\u001b[0m\u001b[0;34m\u001b[0m\u001b[0;34m\u001b[0m\u001b[0m\n",
      "\u001b[0;31mFileNotFoundError\u001b[0m: [Errno 2] No such file or directory: '../Dataset/dataframe.pkl'"
     ]
    }
   ],
   "source": [
    "with open(r'../Dataset/dataframe.pkl', 'rb') as f:\n",
    "    df = pk.load(f)"
   ]
  },
  {
   "cell_type": "code",
   "execution_count": 6,
   "id": "280f3619",
   "metadata": {},
   "outputs": [],
   "source": [
    "df[\"Size\"] = df[\"Simplices\"].apply(lambda x : len(x))"
   ]
  },
  {
   "cell_type": "code",
   "execution_count": 7,
   "id": "fedfab29",
   "metadata": {},
   "outputs": [
    {
     "data": {
      "text/html": [
       "<div>\n",
       "<style scoped>\n",
       "    .dataframe tbody tr th:only-of-type {\n",
       "        vertical-align: middle;\n",
       "    }\n",
       "\n",
       "    .dataframe tbody tr th {\n",
       "        vertical-align: top;\n",
       "    }\n",
       "\n",
       "    .dataframe thead th {\n",
       "        text-align: right;\n",
       "    }\n",
       "</style>\n",
       "<table border=\"1\" class=\"dataframe\">\n",
       "  <thead>\n",
       "    <tr style=\"text-align: right;\">\n",
       "      <th></th>\n",
       "      <th>Time</th>\n",
       "      <th>Simplices</th>\n",
       "      <th>Size</th>\n",
       "    </tr>\n",
       "  </thead>\n",
       "  <tbody>\n",
       "    <tr>\n",
       "      <th>0</th>\n",
       "      <td>1987.0</td>\n",
       "      <td>[1.0]</td>\n",
       "      <td>1</td>\n",
       "    </tr>\n",
       "    <tr>\n",
       "      <th>1</th>\n",
       "      <td>2007.0</td>\n",
       "      <td>[2.0]</td>\n",
       "      <td>1</td>\n",
       "    </tr>\n",
       "    <tr>\n",
       "      <th>2</th>\n",
       "      <td>2011.0</td>\n",
       "      <td>[4.0, 3.0]</td>\n",
       "      <td>2</td>\n",
       "    </tr>\n",
       "    <tr>\n",
       "      <th>3</th>\n",
       "      <td>1998.0</td>\n",
       "      <td>[5.0]</td>\n",
       "      <td>1</td>\n",
       "    </tr>\n",
       "    <tr>\n",
       "      <th>4</th>\n",
       "      <td>1985.0</td>\n",
       "      <td>[7.0, 8.0, 6.0]</td>\n",
       "      <td>3</td>\n",
       "    </tr>\n",
       "  </tbody>\n",
       "</table>\n",
       "</div>"
      ],
      "text/plain": [
       "     Time        Simplices  Size\n",
       "0  1987.0            [1.0]     1\n",
       "1  2007.0            [2.0]     1\n",
       "2  2011.0       [4.0, 3.0]     2\n",
       "3  1998.0            [5.0]     1\n",
       "4  1985.0  [7.0, 8.0, 6.0]     3"
      ]
     },
     "execution_count": 7,
     "metadata": {},
     "output_type": "execute_result"
    }
   ],
   "source": [
    "df.head()"
   ]
  },
  {
   "cell_type": "code",
   "execution_count": 8,
   "id": "eba7d954",
   "metadata": {},
   "outputs": [
    {
     "data": {
      "text/html": [
       "<div>\n",
       "<style scoped>\n",
       "    .dataframe tbody tr th:only-of-type {\n",
       "        vertical-align: middle;\n",
       "    }\n",
       "\n",
       "    .dataframe tbody tr th {\n",
       "        vertical-align: top;\n",
       "    }\n",
       "\n",
       "    .dataframe thead th {\n",
       "        text-align: right;\n",
       "    }\n",
       "</style>\n",
       "<table border=\"1\" class=\"dataframe\">\n",
       "  <thead>\n",
       "    <tr style=\"text-align: right;\">\n",
       "      <th></th>\n",
       "      <th>Simplices</th>\n",
       "      <th>Size</th>\n",
       "    </tr>\n",
       "    <tr>\n",
       "      <th>Time</th>\n",
       "      <th></th>\n",
       "      <th></th>\n",
       "    </tr>\n",
       "  </thead>\n",
       "  <tbody>\n",
       "    <tr>\n",
       "      <th>1893.0</th>\n",
       "      <td>184</td>\n",
       "      <td>184</td>\n",
       "    </tr>\n",
       "    <tr>\n",
       "      <th>1894.0</th>\n",
       "      <td>204</td>\n",
       "      <td>204</td>\n",
       "    </tr>\n",
       "    <tr>\n",
       "      <th>1895.0</th>\n",
       "      <td>155</td>\n",
       "      <td>155</td>\n",
       "    </tr>\n",
       "    <tr>\n",
       "      <th>1896.0</th>\n",
       "      <td>208</td>\n",
       "      <td>208</td>\n",
       "    </tr>\n",
       "    <tr>\n",
       "      <th>1897.0</th>\n",
       "      <td>174</td>\n",
       "      <td>174</td>\n",
       "    </tr>\n",
       "    <tr>\n",
       "      <th>1898.0</th>\n",
       "      <td>168</td>\n",
       "      <td>168</td>\n",
       "    </tr>\n",
       "    <tr>\n",
       "      <th>1899.0</th>\n",
       "      <td>172</td>\n",
       "      <td>172</td>\n",
       "    </tr>\n",
       "    <tr>\n",
       "      <th>1900.0</th>\n",
       "      <td>280</td>\n",
       "      <td>280</td>\n",
       "    </tr>\n",
       "    <tr>\n",
       "      <th>1901.0</th>\n",
       "      <td>146</td>\n",
       "      <td>146</td>\n",
       "    </tr>\n",
       "    <tr>\n",
       "      <th>1902.0</th>\n",
       "      <td>154</td>\n",
       "      <td>154</td>\n",
       "    </tr>\n",
       "    <tr>\n",
       "      <th>1903.0</th>\n",
       "      <td>190</td>\n",
       "      <td>190</td>\n",
       "    </tr>\n",
       "    <tr>\n",
       "      <th>1904.0</th>\n",
       "      <td>181</td>\n",
       "      <td>181</td>\n",
       "    </tr>\n",
       "    <tr>\n",
       "      <th>1905.0</th>\n",
       "      <td>209</td>\n",
       "      <td>209</td>\n",
       "    </tr>\n",
       "    <tr>\n",
       "      <th>1906.0</th>\n",
       "      <td>212</td>\n",
       "      <td>212</td>\n",
       "    </tr>\n",
       "    <tr>\n",
       "      <th>1907.0</th>\n",
       "      <td>222</td>\n",
       "      <td>222</td>\n",
       "    </tr>\n",
       "    <tr>\n",
       "      <th>1908.0</th>\n",
       "      <td>217</td>\n",
       "      <td>217</td>\n",
       "    </tr>\n",
       "    <tr>\n",
       "      <th>1909.0</th>\n",
       "      <td>215</td>\n",
       "      <td>215</td>\n",
       "    </tr>\n",
       "    <tr>\n",
       "      <th>1910.0</th>\n",
       "      <td>240</td>\n",
       "      <td>240</td>\n",
       "    </tr>\n",
       "    <tr>\n",
       "      <th>1911.0</th>\n",
       "      <td>199</td>\n",
       "      <td>199</td>\n",
       "    </tr>\n",
       "    <tr>\n",
       "      <th>1912.0</th>\n",
       "      <td>240</td>\n",
       "      <td>240</td>\n",
       "    </tr>\n",
       "  </tbody>\n",
       "</table>\n",
       "</div>"
      ],
      "text/plain": [
       "        Simplices  Size\n",
       "Time                   \n",
       "1893.0        184   184\n",
       "1894.0        204   204\n",
       "1895.0        155   155\n",
       "1896.0        208   208\n",
       "1897.0        174   174\n",
       "1898.0        168   168\n",
       "1899.0        172   172\n",
       "1900.0        280   280\n",
       "1901.0        146   146\n",
       "1902.0        154   154\n",
       "1903.0        190   190\n",
       "1904.0        181   181\n",
       "1905.0        209   209\n",
       "1906.0        212   212\n",
       "1907.0        222   222\n",
       "1908.0        217   217\n",
       "1909.0        215   215\n",
       "1910.0        240   240\n",
       "1911.0        199   199\n",
       "1912.0        240   240"
      ]
     },
     "execution_count": 8,
     "metadata": {},
     "output_type": "execute_result"
    }
   ],
   "source": [
    "df.groupby(\"Time\").count().iloc[80:100]"
   ]
  },
  {
   "cell_type": "code",
   "execution_count": 42,
   "id": "405baa41",
   "metadata": {},
   "outputs": [],
   "source": [
    "y1 = 2000\n",
    "y2 = 2001\n",
    "size_max = 21\n",
    "size_min = 6"
   ]
  },
  {
   "cell_type": "code",
   "execution_count": 44,
   "id": "26a16c87",
   "metadata": {},
   "outputs": [
    {
     "data": {
      "text/plain": [
       "2960"
      ]
     },
     "execution_count": 44,
     "metadata": {},
     "output_type": "execute_result"
    }
   ],
   "source": [
    "l1 = list(df[(df[\"Time\"]==y1) & (df[\"Size\"]<size_max ) & (df[\"Size\"]>=size_min)][\"Simplices\"])\n",
    "l2 = list(df[(df[\"Time\"]==y2) & (df[\"Size\"]<size_max ) & (df[\"Size\"]>=size_min)][\"Simplices\"])\n",
    "len(l2)"
   ]
  },
  {
   "cell_type": "code",
   "execution_count": 46,
   "id": "c5c04be1",
   "metadata": {},
   "outputs": [],
   "source": [
    "over = np.zeros((len(l1),len(l2)))\n",
    "inclusion = np.zeros((len(l1),len(l2)))"
   ]
  },
  {
   "cell_type": "code",
   "execution_count": 47,
   "id": "f53c396e",
   "metadata": {},
   "outputs": [],
   "source": [
    "def overlap_size(a,b):\n",
    "    return len(a & b)/len(a | b)"
   ]
  },
  {
   "cell_type": "code",
   "execution_count": 48,
   "id": "2b97d49c",
   "metadata": {},
   "outputs": [],
   "source": [
    "def inclusion_size(a,b):\n",
    "    if b.issubset(a):\n",
    "        return len(b) - len(a)\n",
    "    elif a.issubset(b):\n",
    "        return len(b) - len(a)\n",
    "    else:\n",
    "        return np.nan"
   ]
  },
  {
   "cell_type": "code",
   "execution_count": 49,
   "id": "4955ad28",
   "metadata": {},
   "outputs": [
    {
     "data": {
      "text/plain": [
       "-1"
      ]
     },
     "execution_count": 49,
     "metadata": {},
     "output_type": "execute_result"
    }
   ],
   "source": [
    "inclusion_size({1,2,3,4},{1,2,3})"
   ]
  },
  {
   "cell_type": "code",
   "execution_count": 50,
   "id": "a46ad357",
   "metadata": {},
   "outputs": [
    {
     "data": {
      "text/plain": [
       "2295"
      ]
     },
     "execution_count": 50,
     "metadata": {},
     "output_type": "execute_result"
    }
   ],
   "source": [
    "len(l1)"
   ]
  },
  {
   "cell_type": "code",
   "execution_count": 51,
   "id": "9cd700a5",
   "metadata": {},
   "outputs": [
    {
     "data": {
      "text/plain": [
       "6793200"
      ]
     },
     "execution_count": 51,
     "metadata": {},
     "output_type": "execute_result"
    }
   ],
   "source": [
    "len(l1)*len(l2)"
   ]
  },
  {
   "cell_type": "code",
   "execution_count": 129,
   "id": "570be5d1",
   "metadata": {},
   "outputs": [
    {
     "name": "stderr",
     "output_type": "stream",
     "text": [
      " 43%|███████████████████▎                         | 3/7 [00:00<00:00, 26.39it/s]"
     ]
    },
    {
     "name": "stdout",
     "output_type": "stream",
     "text": [
      "1950\n",
      "1960\n",
      "1970\n",
      "1980\n",
      "1990\n",
      "2000\n"
     ]
    },
    {
     "name": "stderr",
     "output_type": "stream",
     "text": [
      " 86%|██████████████████████████████████████▌      | 6/7 [00:35<00:06,  6.93s/it]"
     ]
    },
    {
     "name": "stdout",
     "output_type": "stream",
     "text": [
      "2010\n"
     ]
    },
    {
     "name": "stderr",
     "output_type": "stream",
     "text": [
      "100%|█████████████████████████████████████████████| 7/7 [06:57<00:00, 59.65s/it]\n"
     ]
    }
   ],
   "source": [
    "dict_inc = {}\n",
    "dict_over = {}\n",
    "\n",
    "for y1 in tqdm(range(1950,2011,10), total = len(range(1880,2011,20))):\n",
    "    print(y1)\n",
    "    y2 = y1+1\n",
    "    l1 = list(df[(df[\"Time\"]==y1) & (df[\"Size\"]<size_max ) & (df[\"Size\"]>=size_min)][\"Simplices\"])\n",
    "    l2 = list(df[(df[\"Time\"]==y2) & (df[\"Size\"]<size_max ) & (df[\"Size\"]>=size_min)][\"Simplices\"])\n",
    "    over = np.zeros((len(l1),len(l2)))\n",
    "    inclusion = np.zeros((len(l1),len(l2)))\n",
    "\n",
    "    for i, s1 in enumerate(l1):\n",
    "        for j, s2 in enumerate(l2):\n",
    "            over[i][j] = overlap_size(set(s1),set(s2))\n",
    "            inclusion[i][j] = inclusion_size(set(s1),set(s2))\n",
    "    dict_inc[str(y1)] = inclusion\n",
    "    dict_over[str(y1)] = over"
   ]
  },
  {
   "cell_type": "code",
   "execution_count": 53,
   "id": "31983270",
   "metadata": {},
   "outputs": [],
   "source": [
    "#sns.heatmap(over)"
   ]
  },
  {
   "cell_type": "code",
   "execution_count": 130,
   "id": "c305b0da",
   "metadata": {},
   "outputs": [
    {
     "data": {
      "text/plain": [
       "78"
      ]
     },
     "execution_count": 130,
     "metadata": {},
     "output_type": "execute_result"
    }
   ],
   "source": [
    "np.count_nonzero(~np.isnan(dict_inc[\"2000\"]))"
   ]
  },
  {
   "cell_type": "code",
   "execution_count": 74,
   "id": "448ada0e",
   "metadata": {},
   "outputs": [],
   "source": [
    "#or index, i in enumerate(range(-5,6,1)):\n",
    "    #print(str(i) + \" : \" + str(np.count_nonzero(inclusion == i)))\n",
    "    #y[index] = int(np.count_nonzero(inclusion == i))"
   ]
  },
  {
   "cell_type": "code",
   "execution_count": 127,
   "id": "aeaf99bd",
   "metadata": {},
   "outputs": [],
   "source": [
    "#sns.color_palette(\"pastel\")\n",
    "cols = sns.color_palette()"
   ]
  },
  {
   "cell_type": "code",
   "execution_count": null,
   "id": "daf10e8e",
   "metadata": {},
   "outputs": [
    {
     "name": "stderr",
     "output_type": "stream",
     "text": [
      "/home/christel/anaconda3/lib/python3.9/site-packages/seaborn/_statistics.py:369: RuntimeWarning: invalid value encountered in true_divide\n",
      "  hist = hist.astype(float) / hist.sum()\n",
      "/home/christel/anaconda3/lib/python3.9/site-packages/seaborn/_statistics.py:369: RuntimeWarning: invalid value encountered in true_divide\n",
      "  hist = hist.astype(float) / hist.sum()\n"
     ]
    }
   ],
   "source": [
    "for i, y1 in enumerate(range(1950,2011,10)):    \n",
    "    inc_flat = dict_inc[str(y1)].flatten()\n",
    "    sns.histplot(inc_flat, kde = True, bins = np.array(range(size_min - size_max, size_max - size_min))- 0.5, \n",
    "                 stat = \"probability\", label = str(y1), color = cols[i], alpha = 0.5)\n",
    "plt.legend()"
   ]
  },
  {
   "cell_type": "code",
   "execution_count": 99,
   "id": "bd2915eb",
   "metadata": {},
   "outputs": [
    {
     "data": {
      "text/plain": [
       "array([-15.5, -14.5, -13.5, -12.5, -11.5, -10.5,  -9.5,  -8.5,  -7.5,\n",
       "        -6.5,  -5.5,  -4.5,  -3.5,  -2.5,  -1.5,  -0.5,   0.5,   1.5,\n",
       "         2.5,   3.5,   4.5,   5.5,   6.5,   7.5,   8.5,   9.5,  10.5,\n",
       "        11.5,  12.5,  13.5])"
      ]
     },
     "execution_count": 99,
     "metadata": {},
     "output_type": "execute_result"
    }
   ],
   "source": [
    "np.array(range(size_min - size_max, size_max - size_min))- 0.5"
   ]
  },
  {
   "cell_type": "code",
   "execution_count": 88,
   "id": "5424d48e",
   "metadata": {},
   "outputs": [
    {
     "data": {
      "text/plain": [
       "-15"
      ]
     },
     "execution_count": 88,
     "metadata": {},
     "output_type": "execute_result"
    }
   ],
   "source": [
    "size_min - size_max"
   ]
  },
  {
   "cell_type": "code",
   "execution_count": 82,
   "id": "d1cca099",
   "metadata": {},
   "outputs": [
    {
     "data": {
      "text/plain": [
       "<AxesSubplot:>"
      ]
     },
     "execution_count": 82,
     "metadata": {},
     "output_type": "execute_result"
    },
    {
     "data": {
      "image/png": "[encoded data removed]",
      "text/plain": [
       "<Figure size 640x480 with 1 Axes>"
      ]
     },
     "metadata": {},
     "output_type": "display_data"
    }
   ],
   "source": [
    "sns.barplot(x=x, y=y)\n",
    "#plt.yscale(\"log\")"
   ]
  },
  {
   "cell_type": "code",
   "execution_count": 70,
   "id": "6d295636",
   "metadata": {},
   "outputs": [
    {
     "data": {
      "text/plain": [
       "(array([ 17,  77,  77, 113, 116, 116, 121, 121, 164, 186, 196, 200, 200,\n",
       "        276]),\n",
       " array([ 94,   8, 136,  44, 134, 137,   8, 136,  66,  96,  94,   8, 136,\n",
       "        120]))"
      ]
     },
     "execution_count": 70,
     "metadata": {},
     "output_type": "execute_result"
    }
   ],
   "source": [
    "np.where(over==0.5)"
   ]
  },
  {
   "cell_type": "code",
   "execution_count": 71,
   "id": "40a568e3",
   "metadata": {},
   "outputs": [
    {
     "data": {
      "text/plain": [
       "[204804.0, 204803.0]"
      ]
     },
     "execution_count": 71,
     "metadata": {},
     "output_type": "execute_result"
    }
   ],
   "source": [
    "l1[17]"
   ]
  },
  {
   "cell_type": "code",
   "execution_count": 72,
   "id": "e235c68f",
   "metadata": {},
   "outputs": [
    {
     "data": {
      "text/plain": [
       "[204803.0]"
      ]
     },
     "execution_count": 72,
     "metadata": {},
     "output_type": "execute_result"
    }
   ],
   "source": [
    "l2[94]"
   ]
  },
  {
   "cell_type": "code",
   "execution_count": 56,
   "id": "a48e4c70",
   "metadata": {},
   "outputs": [
    {
     "data": {
      "text/plain": [
       "array([0., 0., 0., ..., 0., 0., 0.])"
      ]
     },
     "execution_count": 56,
     "metadata": {},
     "output_type": "execute_result"
    }
   ],
   "source": [
    "over[over==0]"
   ]
  },
  {
   "cell_type": "code",
   "execution_count": 57,
   "id": "e214011a",
   "metadata": {},
   "outputs": [
    {
     "data": {
      "text/plain": [
       "63"
      ]
     },
     "execution_count": 57,
     "metadata": {},
     "output_type": "execute_result"
    }
   ],
   "source": [
    "np.count_nonzero(over)"
   ]
  },
  {
   "cell_type": "code",
   "execution_count": null,
   "id": "336f688d",
   "metadata": {},
   "outputs": [],
   "source": []
  }
 ],
 "metadata": {
  "kernelspec": {
   "display_name": "Python 3 (ipykernel)",
   "language": "python",
   "name": "python3"
  },
  "language_info": {
   "codemirror_mode": {
    "name": "ipython",
    "version": 3
   },
   "file_extension": ".py",
   "mimetype": "text/x-python",
   "name": "python",
   "nbconvert_exporter": "python",
   "pygments_lexer": "ipython3",
   "version": "3.9.13"
  }
 },
 "nbformat": 4,
 "nbformat_minor": 5
}
