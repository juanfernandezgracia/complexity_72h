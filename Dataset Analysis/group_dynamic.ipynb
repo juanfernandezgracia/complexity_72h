{
 "cells": [
  {
   "cell_type": "code",
   "execution_count": 3,
   "id": "7e82c59d",
   "metadata": {},
   "outputs": [],
   "source": [
    "import pandas as pd\n",
    "import pickle as pk\n",
    "import seaborn as sns\n",
    "import matplotlib.pyplot as plt\n",
    "from collections import Counter\n",
    "import numpy as np"
   ]
  },
  {
   "cell_type": "code",
   "execution_count": 4,
   "id": "d953e596",
   "metadata": {},
   "outputs": [],
   "source": [
    "from tqdm import tqdm"
   ]
  },
  {
   "cell_type": "code",
   "execution_count": 40,
   "id": "e07797db",
   "metadata": {},
   "outputs": [],
   "source": [
    "with open(r'../Dataset/dataframe.pkl', 'rb') as f:\n",
    "    df = pk.load(f)"
   ]
  },
  {
   "cell_type": "code",
   "execution_count": 41,
   "id": "280f3619",
   "metadata": {},
   "outputs": [],
   "source": [
    "df[\"Size\"] = df[\"Simplices\"].apply(lambda x : len(x))"
   ]
  },
  {
   "cell_type": "code",
   "execution_count": 42,
   "id": "405baa41",
   "metadata": {},
   "outputs": [],
   "source": [
    "y1 = 2000\n",
    "y2 = 2001\n",
    "size_max = 21\n",
    "size_min = 6"
   ]
  },
  {
   "cell_type": "code",
   "execution_count": 43,
   "id": "26a16c87",
   "metadata": {},
   "outputs": [
    {
     "data": {
      "text/plain": [
       "2960"
      ]
     },
     "execution_count": 43,
     "metadata": {},
     "output_type": "execute_result"
    }
   ],
   "source": [
    "l1 = list(df[(df[\"Time\"]==y1) & (df[\"Size\"]<size_max ) & (df[\"Size\"]>=size_min)][\"Simplices\"])\n",
    "l2 = list(df[(df[\"Time\"]==y2) & (df[\"Size\"]<size_max ) & (df[\"Size\"]>=size_min)][\"Simplices\"])\n",
    "len(l2)"
   ]
  },
  {
   "cell_type": "code",
   "execution_count": 44,
   "id": "c5c04be1",
   "metadata": {},
   "outputs": [],
   "source": [
    "over = np.zeros((len(l1),len(l2)))\n",
    "inclusion = np.zeros((len(l1),len(l2)))"
   ]
  },
  {
   "cell_type": "code",
   "execution_count": 45,
   "id": "f53c396e",
   "metadata": {},
   "outputs": [],
   "source": [
    "def overlap_size(a,b):\n",
    "    return len(a & b)/len(a | b)"
   ]
  },
  {
   "cell_type": "code",
   "execution_count": 46,
   "id": "2b97d49c",
   "metadata": {},
   "outputs": [],
   "source": [
    "def inclusion_size(a,b):\n",
    "    if b.issubset(a):\n",
    "        return len(b) - len(a)\n",
    "    elif a.issubset(b):\n",
    "        return len(b) - len(a)\n",
    "    else:\n",
    "        return np.nan"
   ]
  },
  {
   "cell_type": "code",
   "execution_count": 71,
   "id": "570be5d1",
   "metadata": {},
   "outputs": [
    {
     "name": "stdout",
     "output_type": "stream",
     "text": [
      "1980\n"
     ]
    },
    {
     "name": "stderr",
     "output_type": "stream",
     "text": [
      "100%|██████████| 607/607 [00:00<00:00, 673.80it/s]\n"
     ]
    },
    {
     "name": "stdout",
     "output_type": "stream",
     "text": [
      "1982\n"
     ]
    },
    {
     "name": "stderr",
     "output_type": "stream",
     "text": [
      "100%|██████████| 628/628 [00:01<00:00, 485.75it/s]\n"
     ]
    },
    {
     "name": "stdout",
     "output_type": "stream",
     "text": [
      "1984\n"
     ]
    },
    {
     "name": "stderr",
     "output_type": "stream",
     "text": [
      "100%|██████████| 798/798 [00:01<00:00, 439.93it/s]\n"
     ]
    },
    {
     "name": "stdout",
     "output_type": "stream",
     "text": [
      "1986\n"
     ]
    },
    {
     "name": "stderr",
     "output_type": "stream",
     "text": [
      "100%|██████████| 925/925 [00:02<00:00, 400.81it/s]\n"
     ]
    },
    {
     "name": "stdout",
     "output_type": "stream",
     "text": [
      "1988\n"
     ]
    },
    {
     "name": "stderr",
     "output_type": "stream",
     "text": [
      "100%|██████████| 1211/1211 [00:04<00:00, 273.04it/s]\n"
     ]
    },
    {
     "name": "stdout",
     "output_type": "stream",
     "text": [
      "1990\n"
     ]
    },
    {
     "name": "stderr",
     "output_type": "stream",
     "text": [
      "100%|██████████| 1501/1501 [00:07<00:00, 203.66it/s]\n"
     ]
    }
   ],
   "source": [
    "dict_inc = {}\n",
    "dict_over = {}\n",
    "\n",
    "for k,y1 in enumerate(range(1980,1991,2)):\n",
    "    size_max = 21\n",
    "    size_min = 5\n",
    "    print(y1)\n",
    "    y2 = y1+1\n",
    "    l1 = list(df[(df[\"Time\"]==y1) & (df[\"Size\"]<size_max ) & (df[\"Size\"]>=size_min)][\"Simplices\"])\n",
    "    l2 = list(df[(df[\"Time\"]==y2) & (df[\"Size\"]<size_max ) & (df[\"Size\"]>=size_min)][\"Simplices\"])\n",
    "    over = np.zeros((len(l1),len(l2)))\n",
    "    inclusion = np.zeros((len(l1),len(l2)))\n",
    "\n",
    "    for i, s1 in tqdm(enumerate(l1), total = len(l1)):\n",
    "        for j, s2 in enumerate(l2):\n",
    "            over[i][j] = overlap_size(set(s1),set(s2))\n",
    "            inclusion[i][j] = inclusion_size(set(s1),set(s2))\n",
    "    dict_inc[str(y1)] = inclusion\n",
    "    dict_over[str(y1)] = over"
   ]
  },
  {
   "cell_type": "code",
   "execution_count": 72,
   "id": "ef6929f8",
   "metadata": {},
   "outputs": [
    {
     "name": "stdout",
     "output_type": "stream",
     "text": [
      "2014\n"
     ]
    },
    {
     "name": "stderr",
     "output_type": "stream",
     "text": [
      "100%|██████████| 17947/17947 [17:41<00:00, 16.91it/s]\n"
     ]
    },
    {
     "name": "stdout",
     "output_type": "stream",
     "text": [
      "2016\n"
     ]
    },
    {
     "name": "stderr",
     "output_type": "stream",
     "text": [
      "100%|██████████| 20037/20037 [14:03<00:00, 23.76it/s]\n"
     ]
    },
    {
     "name": "stdout",
     "output_type": "stream",
     "text": [
      "2018\n"
     ]
    },
    {
     "name": "stderr",
     "output_type": "stream",
     "text": [
      "0it [00:00, ?it/s]\n"
     ]
    }
   ],
   "source": [
    "dict_inc2018 = {}\n",
    "dict_over2018 = {}\n",
    "\n",
    "for k,y1 in enumerate(range(2014,2019,2)):\n",
    "    size_max = 21\n",
    "    size_min = 5\n",
    "    print(y1)\n",
    "    y2 = y1+1\n",
    "    l1 = list(df[(df[\"Time\"]==y1) & (df[\"Size\"]<size_max ) & (df[\"Size\"]>=size_min)][\"Simplices\"])\n",
    "    l2 = list(df[(df[\"Time\"]==y2) & (df[\"Size\"]<size_max ) & (df[\"Size\"]>=size_min)][\"Simplices\"])\n",
    "    over = np.zeros((len(l1),len(l2)))\n",
    "    inclusion = np.zeros((len(l1),len(l2)))\n",
    "\n",
    "    for i, s1 in tqdm(enumerate(l1), total = len(l1)):\n",
    "        for j, s2 in enumerate(l2):\n",
    "            over[i][j] = overlap_size(set(s1),set(s2))\n",
    "            inclusion[i][j] = inclusion_size(set(s1),set(s2))\n",
    "    dict_inc2018[str(y1)] = inclusion\n",
    "    dict_over2018[str(y1)] = over"
   ]
  },
  {
   "cell_type": "code",
   "execution_count": 79,
   "id": "a4b7ca46",
   "metadata": {},
   "outputs": [],
   "source": [
    "with open(r\"C:\\Users\\PcLaptop\\OneDrive\\c72h\\dict_inc.pkl\", 'wb') as fp:\n",
    "    pk.dump(dict_inc, fp)"
   ]
  },
  {
   "cell_type": "code",
   "execution_count": 80,
   "id": "9e88d24a",
   "metadata": {},
   "outputs": [],
   "source": [
    "with open(r\"C:\\Users\\PcLaptop\\OneDrive\\c72h\\dict_over.pkl\", 'wb') as fp:\n",
    "    pk.dump(dict_over, fp)"
   ]
  },
  {
   "cell_type": "code",
   "execution_count": 56,
   "id": "576992af",
   "metadata": {},
   "outputs": [],
   "source": [
    "with open(r\"C:\\Users\\PcLaptop\\OneDrive\\c72h\\dict_inc.pkl\", 'rb') as f:\n",
    "    incl = pk.load(f)"
   ]
  },
  {
   "cell_type": "code",
   "execution_count": 75,
   "id": "c961593a",
   "metadata": {},
   "outputs": [
    {
     "data": {
      "text/plain": [
       "{'1990': array([[nan, nan, nan, ..., nan, nan, nan],\n",
       "        [nan, nan, nan, ..., nan, nan, nan],\n",
       "        [nan, nan, nan, ..., nan, nan, nan],\n",
       "        ...,\n",
       "        [nan, nan, nan, ..., nan, nan, nan],\n",
       "        [nan, nan, nan, ..., nan, nan, nan],\n",
       "        [nan, nan, nan, ..., nan, nan, nan]]),\n",
       " '1992': array([[nan, nan, nan, ..., nan, nan, nan],\n",
       "        [nan, nan, nan, ..., nan, nan, nan],\n",
       "        [nan, nan, nan, ..., nan, nan, nan],\n",
       "        ...,\n",
       "        [nan, nan, nan, ..., nan, nan, nan],\n",
       "        [nan, nan, nan, ..., nan, nan, nan],\n",
       "        [nan, nan, nan, ..., nan, nan, nan]]),\n",
       " '1994': array([[nan, nan, nan, ..., nan, nan, nan],\n",
       "        [nan, nan, nan, ..., nan, nan, nan],\n",
       "        [nan, nan, nan, ..., nan, nan, nan],\n",
       "        ...,\n",
       "        [nan, nan, nan, ..., nan, nan, nan],\n",
       "        [nan, nan, nan, ..., nan, nan, nan],\n",
       "        [nan, nan, nan, ..., nan, nan, nan]]),\n",
       " '1996': array([[nan, nan, nan, ..., nan, nan, nan],\n",
       "        [nan, nan, nan, ..., nan, nan, nan],\n",
       "        [nan, nan, nan, ..., nan, nan, nan],\n",
       "        ...,\n",
       "        [nan, nan, nan, ..., nan, nan, nan],\n",
       "        [nan, nan, nan, ..., nan, nan, nan],\n",
       "        [nan, nan, nan, ..., nan, nan, nan]]),\n",
       " '1998': array([[nan, nan, nan, ..., nan, nan, nan],\n",
       "        [nan, nan, nan, ..., nan, nan, nan],\n",
       "        [nan, nan, nan, ..., nan, nan, nan],\n",
       "        ...,\n",
       "        [nan, nan, nan, ..., nan, nan, nan],\n",
       "        [nan, nan, nan, ..., nan, nan, nan],\n",
       "        [nan, nan, nan, ..., nan, nan, nan]]),\n",
       " '2000': array([[nan, nan, nan, ..., nan, nan, nan],\n",
       "        [nan, nan, nan, ..., nan, nan, nan],\n",
       "        [nan, nan, nan, ..., nan, nan, nan],\n",
       "        ...,\n",
       "        [nan, nan, nan, ..., nan, nan, nan],\n",
       "        [nan, nan, nan, ..., nan, nan, nan],\n",
       "        [nan, nan, nan, ..., nan, nan, nan]]),\n",
       " '2002': array([[nan, nan, nan, ..., nan, nan, nan],\n",
       "        [nan, nan, nan, ..., nan, nan, nan],\n",
       "        [nan, nan, nan, ..., nan, nan, nan],\n",
       "        ...,\n",
       "        [nan, nan, nan, ..., nan, nan, nan],\n",
       "        [nan, nan, nan, ..., nan, nan, nan],\n",
       "        [nan, nan, nan, ..., nan, nan, nan]]),\n",
       " '2004': array([[nan, nan, nan, ..., nan, nan, nan],\n",
       "        [nan, nan, nan, ..., nan, nan, nan],\n",
       "        [nan, nan, nan, ..., nan, nan, nan],\n",
       "        ...,\n",
       "        [nan, nan, nan, ..., nan, nan, nan],\n",
       "        [nan, nan, nan, ..., nan, nan, nan],\n",
       "        [nan, nan, nan, ..., nan, nan, nan]]),\n",
       " '2006': array([[nan, nan, nan, ..., nan, nan, nan],\n",
       "        [nan, nan, nan, ..., nan, nan, nan],\n",
       "        [nan, nan, nan, ..., nan, nan, nan],\n",
       "        ...,\n",
       "        [nan, nan, nan, ..., nan, nan, nan],\n",
       "        [nan, nan, nan, ..., nan, nan, nan],\n",
       "        [nan, nan, nan, ..., nan, nan, nan]]),\n",
       " '2008': array([[nan, nan, nan, ..., nan, nan, nan],\n",
       "        [nan, nan, nan, ..., nan, nan, nan],\n",
       "        [nan, nan, nan, ..., nan, nan, nan],\n",
       "        ...,\n",
       "        [nan, nan, nan, ..., nan, nan, nan],\n",
       "        [nan, nan, nan, ..., nan, nan, nan],\n",
       "        [nan, nan, nan, ..., nan, nan, nan]]),\n",
       " '2010': array([[nan, nan, nan, ..., nan, nan, nan],\n",
       "        [nan, nan, nan, ..., nan, nan, nan],\n",
       "        [nan, nan, nan, ..., nan, nan, nan],\n",
       "        ...,\n",
       "        [nan, nan, nan, ..., nan, nan, nan],\n",
       "        [nan, nan, nan, ..., nan, nan, nan],\n",
       "        [nan, nan, nan, ..., nan, nan, nan]]),\n",
       " '2012': array([[nan, nan, nan, ..., nan, nan, nan],\n",
       "        [nan, nan, nan, ..., nan, nan, nan],\n",
       "        [nan, nan, nan, ..., nan, nan, nan],\n",
       "        ...,\n",
       "        [nan, nan, nan, ..., nan, nan, nan],\n",
       "        [nan, nan, nan, ..., nan, nan, nan],\n",
       "        [nan, nan, nan, ..., nan, nan, nan]]),\n",
       " '2014': array([[nan, nan, nan, ..., nan, nan, nan],\n",
       "        [nan, nan, nan, ..., nan, nan, nan],\n",
       "        [nan, nan, nan, ..., nan, nan, nan],\n",
       "        ...,\n",
       "        [nan, nan, nan, ..., nan, nan, nan],\n",
       "        [nan, nan, nan, ..., nan, nan, nan],\n",
       "        [nan, nan, nan, ..., nan, nan, nan]]),\n",
       " '2016': array([[nan, nan, nan, ..., nan, nan, nan],\n",
       "        [nan, nan, nan, ..., nan, nan, nan],\n",
       "        [nan, nan, nan, ..., nan, nan, nan],\n",
       "        ...,\n",
       "        [nan, nan, nan, ..., nan, nan, nan],\n",
       "        [nan, nan, nan, ..., nan, nan, nan],\n",
       "        [nan, nan, nan, ..., nan, nan, nan]]),\n",
       " '2018': array([], shape=(0, 0), dtype=float64)}"
      ]
     },
     "execution_count": 75,
     "metadata": {},
     "output_type": "execute_result"
    }
   ],
   "source": [
    "incl.update(dict_inc2018)\n",
    "incl"
   ]
  },
  {
   "cell_type": "code",
   "execution_count": 76,
   "id": "4851fd4f",
   "metadata": {},
   "outputs": [
    {
     "data": {
      "text/plain": [
       "array([], shape=(0, 0), dtype=float64)"
      ]
     },
     "execution_count": 76,
     "metadata": {},
     "output_type": "execute_result"
    }
   ],
   "source": [
    "incl.pop('2018')"
   ]
  },
  {
   "cell_type": "code",
   "execution_count": 78,
   "id": "a5ff8e8a",
   "metadata": {},
   "outputs": [],
   "source": [
    "dict_inc.update(incl)"
   ]
  },
  {
   "cell_type": "code",
   "execution_count": 80,
   "id": "871f411d",
   "metadata": {},
   "outputs": [
    {
     "data": {
      "text/plain": [
       "dict_keys(['1980', '1982', '1984', '1986', '1988', '1990', '2014', '2016', '2018', '1992', '1994', '1996', '1998', '2000', '2002', '2004', '2006', '2008', '2010', '2012'])"
      ]
     },
     "execution_count": 80,
     "metadata": {},
     "output_type": "execute_result"
    }
   ],
   "source": [
    "dict_inc.keys()"
   ]
  },
  {
   "cell_type": "code",
   "execution_count": 87,
   "id": "2cee0674",
   "metadata": {},
   "outputs": [],
   "source": [
    "means= np.zeros(len(range(1980,2017,2)))\n",
    "stds= np.zeros(len(range(1980,2017,2)))\n",
    "for i, y1 in enumerate(range(1980,2017,2)):    \n",
    "    df2 = dict_inc[str(y1)].flatten()[~np.isnan(dict_inc[str(y1)].flatten())]\n",
    "    means[i]= df2.mean()\n",
    "    stds[i]= df2.std()"
   ]
  },
  {
   "cell_type": "code",
   "execution_count": 114,
   "id": "5c5fe71b",
   "metadata": {},
   "outputs": [
    {
     "data": {
      "image/png": "[encoded data removed]",
      "text/plain": [
       "<Figure size 640x480 with 1 Axes>"
      ]
     },
     "metadata": {},
     "output_type": "display_data"
    }
   ],
   "source": [
    "from scipy.interpolate import interp1d\n",
    "from matplotlib.pyplot import errorbar\n",
    "new_x = np.linspace(1980, 2016, 100)  # Adjust the number of points as needed\n",
    "\n",
    "# Interpolate y-values for new_x\n",
    "new_y = np.interp(new_x, np.array(range(1980,2017,2)), stds)\n",
    "x=np.array(range(1980,2017,2))\n",
    "y=stds\n",
    "\n",
    "plt.scatter(x=x,y=y)\n",
    "\n",
    "degree = 3  # Adjust the degree of the polynomial as needed\n",
    "coefficients = np.polyfit(x, y, degree)\n",
    "curve_fit = np.poly1d(coefficients)\n",
    "\n",
    "# New x-values for plotting the curve\n",
    "new_x = np.linspace(1980, 2016, 100)  # Adjust the number of points as needed\n",
    "\n",
    "# Evaluate the curve fit for new_x\n",
    "new_y = curve_fit(new_x)\n",
    "\n",
    "# Plot the original scatter plot\n",
    "plt.scatter(x, y, label='Original Data')\n",
    "\n",
    "\n",
    "# Plot the curve fit\n",
    "plt.plot(new_x, new_y, label='Curve Fit')\n",
    "\n",
    "# Set labels and title\n",
    "plt.xlabel('Year')\n",
    "plt.ylabel('Standard Deviation')\n",
    "plt.title('Std')\n",
    "\n",
    "# Show legend\n",
    "plt.legend()\n",
    "\n",
    "# Display the plot\n",
    "plt.show()\n",
    "\n",
    "\n",
    "#errorbar(x=np.array(range(1980,2016,4)),y=means, yerr=stds)"
   ]
  },
  {
   "cell_type": "code",
   "execution_count": 113,
   "id": "65b84af7",
   "metadata": {},
   "outputs": [
    {
     "data": {
      "text/plain": [
       "array([1.67032701e-08, 6.00117166e-01, 2.39560328e+06, 1.06252230e+12])"
      ]
     },
     "execution_count": 113,
     "metadata": {},
     "output_type": "execute_result"
    }
   ],
   "source": [
    "np.diag(cov_matrix)"
   ]
  },
  {
   "cell_type": "code",
   "execution_count": 112,
   "id": "6c8c3470",
   "metadata": {},
   "outputs": [
    {
     "ename": "ValueError",
     "evalue": "operands could not be broadcast together with shapes (4,) (100,) ",
     "output_type": "error",
     "traceback": [
      "\u001b[1;31m---------------------------------------------------------------------------\u001b[0m",
      "\u001b[1;31mValueError\u001b[0m                                Traceback (most recent call last)",
      "Cell \u001b[1;32mIn[112], line 23\u001b[0m\n\u001b[0;32m     21\u001b[0m p \u001b[39m=\u001b[39m coefficients\u001b[39m.\u001b[39msize\n\u001b[0;32m     22\u001b[0m t_value \u001b[39m=\u001b[39m \u001b[39m2.262\u001b[39m  \u001b[39m# Adjust the t-value for desired confidence level (95%: 2.262)\u001b[39;00m\n\u001b[1;32m---> 23\u001b[0m conf_int \u001b[39m=\u001b[39m t_value \u001b[39m*\u001b[39m np\u001b[39m.\u001b[39msqrt(np\u001b[39m.\u001b[39;49mdiag(cov_matrix) \u001b[39m*\u001b[39;49m (\u001b[39m1\u001b[39;49m\u001b[39m/\u001b[39;49mn \u001b[39m+\u001b[39;49m (new_x \u001b[39m-\u001b[39;49m np\u001b[39m.\u001b[39;49mmean(x))\u001b[39m*\u001b[39;49m\u001b[39m*\u001b[39;49m\u001b[39m2\u001b[39;49m \u001b[39m/\u001b[39;49m np\u001b[39m.\u001b[39;49msum((x \u001b[39m-\u001b[39;49m np\u001b[39m.\u001b[39;49mmean(x))\u001b[39m*\u001b[39;49m\u001b[39m*\u001b[39;49m\u001b[39m2\u001b[39;49m)))\n\u001b[0;32m     25\u001b[0m \u001b[39m# Plot the original scatter plot\u001b[39;00m\n\u001b[0;32m     26\u001b[0m plt\u001b[39m.\u001b[39mscatter(x, y, label\u001b[39m=\u001b[39m\u001b[39m'\u001b[39m\u001b[39mOriginal Data\u001b[39m\u001b[39m'\u001b[39m)\n",
      "\u001b[1;31mValueError\u001b[0m: operands could not be broadcast together with shapes (4,) (100,) "
     ]
    }
   ],
   "source": [
    "import matplotlib.pyplot as plt\n",
    "import numpy as np\n",
    "\n",
    "# Existing data points\n",
    "x = np.array(range(1980, 2017, 2))\n",
    "y = stds\n",
    "\n",
    "# Fit a curve (polynomial) to the data\n",
    "degree = 3  # Adjust the degree of the polynomial as needed\n",
    "coefficients, cov_matrix = np.polyfit(x, y, degree, cov=True)\n",
    "curve_fit = np.poly1d(coefficients)\n",
    "\n",
    "# New x-values for plotting the curve\n",
    "new_x = np.linspace(1980, 2016, 100)  # Adjust the number of points as needed\n",
    "\n",
    "# Evaluate the curve fit for new_x\n",
    "new_y = curve_fit(new_x)\n",
    "\n",
    "# Calculate the confidence interval\n",
    "n = len(x)\n",
    "p = coefficients.size\n",
    "t_value = 2.262  # Adjust the t-value for desired confidence level (95%: 2.262)\n",
    "conf_int = t_value * np.sqrt(np.diag(cov_matrix) * (1/n + (new_x - np.mean(x))**2 / np.sum((x - np.mean(x))**2)))\n",
    "\n",
    "# Plot the original scatter plot\n",
    "plt.scatter(x, y, label='Original Data')\n",
    "\n",
    "# Plot the curve fit\n",
    "plt.plot(new_x, new_y, label='Curve Fit')\n",
    "\n",
    "# Plot the upper and lower confidence interval bounds\n",
    "plt.fill_between(new_x, new_y + conf_int, new_y - conf_int, color='gray', alpha=0.4, label='Confidence Interval')\n",
    "\n",
    "# Set labels and title\n",
    "plt.xlabel('Year')\n",
    "plt.ylabel('Standard Deviation')\n",
    "plt.title('Curve Fitting with Confidence Interval')\n",
    "\n",
    "# Show legend\n",
    "plt.legend()\n",
    "\n",
    "# Display the plot\n",
    "plt.show()\n"
   ]
  },
  {
   "cell_type": "code",
   "execution_count": 36,
   "id": "bd2915eb",
   "metadata": {},
   "outputs": [],
   "source": [
    "with open(r\"C:\\Users\\PcLaptop\\OneDrive\\c72h\\dict_inc.pkl\", 'rb') as fp:\n",
    "    df=pk.load(fp)"
   ]
  },
  {
   "cell_type": "code",
   "execution_count": 115,
   "id": "5722269d",
   "metadata": {},
   "outputs": [
    {
     "data": {
      "text/plain": [
       "<matplotlib.legend.Legend at 0x2015231e910>"
      ]
     },
     "execution_count": 115,
     "metadata": {},
     "output_type": "execute_result"
    },
    {
     "data": {
      "image/png": "[encoded data removed]",
      "text/plain": [
       "<Figure size 640x480 with 1 Axes>"
      ]
     },
     "metadata": {},
     "output_type": "display_data"
    }
   ],
   "source": [
    "cols = sns.color_palette(\"husl\", 4)\n",
    "size_max = 21\n",
    "size_min = 5\n",
    "\n",
    "for i, y1 in enumerate([1980,1990,2000,2010]):    \n",
    "    df1 = dict_inc[str(y1)].flatten()\n",
    "    df1=df1[~np.isnan(df1)]\n",
    "    sns.histplot(df1, kde = True, bins = np.array(range(size_min - size_max, size_max - size_min))- 0.5, \n",
    "                 stat = \"probability\", label = str(y1), color = cols[i], alpha = 0.2)\n",
    "plt.legend()"
   ]
  },
  {
   "cell_type": "code",
   "execution_count": 35,
   "id": "b261e81b",
   "metadata": {},
   "outputs": [],
   "source": [
    "with open(r\"C:\\Users\\PcLaptop\\OneDrive\\c72h\\dict_over.pkl\", 'rb') as fp:\n",
    "    over=pk.load(fp)"
   ]
  },
  {
   "cell_type": "code",
   "execution_count": 38,
   "id": "336f688d",
   "metadata": {},
   "outputs": [
    {
     "ename": "KeyboardInterrupt",
     "evalue": "",
     "output_type": "error",
     "traceback": [
      "\u001b[1;31m---------------------------------------------------------------------------\u001b[0m",
      "\u001b[1;31mKeyboardInterrupt\u001b[0m                         Traceback (most recent call last)",
      "Cell \u001b[1;32mIn[38], line 8\u001b[0m\n\u001b[0;32m      6\u001b[0m     df1 \u001b[39m=\u001b[39m over[\u001b[39mstr\u001b[39m(y1)]\u001b[39m.\u001b[39mflatten()\n\u001b[0;32m      7\u001b[0m     df1\u001b[39m=\u001b[39mdf1[\u001b[39m~\u001b[39mnp\u001b[39m.\u001b[39misnan(df1)]\n\u001b[1;32m----> 8\u001b[0m     sns\u001b[39m.\u001b[39;49mhistplot(df1, kde \u001b[39m=\u001b[39;49m \u001b[39mTrue\u001b[39;49;00m, bins \u001b[39m=\u001b[39;49m np\u001b[39m.\u001b[39;49marray(\u001b[39mrange\u001b[39;49m(size_min \u001b[39m-\u001b[39;49m size_max, size_max \u001b[39m-\u001b[39;49m size_min))\u001b[39m-\u001b[39;49m \u001b[39m0.5\u001b[39;49m, \n\u001b[0;32m      9\u001b[0m                  stat \u001b[39m=\u001b[39;49m \u001b[39m\"\u001b[39;49m\u001b[39mprobability\u001b[39;49m\u001b[39m\"\u001b[39;49m, label \u001b[39m=\u001b[39;49m \u001b[39mstr\u001b[39;49m(y1), color \u001b[39m=\u001b[39;49m cols[i], alpha \u001b[39m=\u001b[39;49m \u001b[39m0.5\u001b[39;49m)\n\u001b[0;32m     10\u001b[0m plt\u001b[39m.\u001b[39mlegend()\n",
      "File \u001b[1;32mc:\\Users\\PcLaptop\\AppData\\Local\\Programs\\Python\\Python311\\Lib\\site-packages\\seaborn\\distributions.py:1395\u001b[0m, in \u001b[0;36mhistplot\u001b[1;34m(data, x, y, hue, weights, stat, bins, binwidth, binrange, discrete, cumulative, common_bins, common_norm, multiple, element, fill, shrink, kde, kde_kws, line_kws, thresh, pthresh, pmax, cbar, cbar_ax, cbar_kws, palette, hue_order, hue_norm, color, log_scale, legend, ax, **kwargs)\u001b[0m\n\u001b[0;32m   1374\u001b[0m \u001b[39mdef\u001b[39;00m \u001b[39mhistplot\u001b[39m(\n\u001b[0;32m   1375\u001b[0m     data\u001b[39m=\u001b[39m\u001b[39mNone\u001b[39;00m, \u001b[39m*\u001b[39m,\n\u001b[0;32m   1376\u001b[0m     \u001b[39m# Vector variables\u001b[39;00m\n\u001b[1;32m   (...)\u001b[0m\n\u001b[0;32m   1392\u001b[0m     \u001b[39m*\u001b[39m\u001b[39m*\u001b[39mkwargs,\n\u001b[0;32m   1393\u001b[0m ):\n\u001b[1;32m-> 1395\u001b[0m     p \u001b[39m=\u001b[39m _DistributionPlotter(\n\u001b[0;32m   1396\u001b[0m         data\u001b[39m=\u001b[39;49mdata,\n\u001b[0;32m   1397\u001b[0m         variables\u001b[39m=\u001b[39;49m_DistributionPlotter\u001b[39m.\u001b[39;49mget_semantics(\u001b[39mlocals\u001b[39;49m())\n\u001b[0;32m   1398\u001b[0m     )\n\u001b[0;32m   1400\u001b[0m     p\u001b[39m.\u001b[39mmap_hue(palette\u001b[39m=\u001b[39mpalette, order\u001b[39m=\u001b[39mhue_order, norm\u001b[39m=\u001b[39mhue_norm)\n\u001b[0;32m   1402\u001b[0m     \u001b[39mif\u001b[39;00m ax \u001b[39mis\u001b[39;00m \u001b[39mNone\u001b[39;00m:\n",
      "File \u001b[1;32mc:\\Users\\PcLaptop\\AppData\\Local\\Programs\\Python\\Python311\\Lib\\site-packages\\seaborn\\distributions.py:113\u001b[0m, in \u001b[0;36m_DistributionPlotter.__init__\u001b[1;34m(self, data, variables)\u001b[0m\n\u001b[0;32m    107\u001b[0m \u001b[39mdef\u001b[39;00m \u001b[39m__init__\u001b[39m(\n\u001b[0;32m    108\u001b[0m     \u001b[39mself\u001b[39m,\n\u001b[0;32m    109\u001b[0m     data\u001b[39m=\u001b[39m\u001b[39mNone\u001b[39;00m,\n\u001b[0;32m    110\u001b[0m     variables\u001b[39m=\u001b[39m{},\n\u001b[0;32m    111\u001b[0m ):\n\u001b[1;32m--> 113\u001b[0m     \u001b[39msuper\u001b[39;49m()\u001b[39m.\u001b[39;49m\u001b[39m__init__\u001b[39;49m(data\u001b[39m=\u001b[39;49mdata, variables\u001b[39m=\u001b[39;49mvariables)\n",
      "File \u001b[1;32mc:\\Users\\PcLaptop\\AppData\\Local\\Programs\\Python\\Python311\\Lib\\site-packages\\seaborn\\_oldcore.py:640\u001b[0m, in \u001b[0;36mVectorPlotter.__init__\u001b[1;34m(self, data, variables)\u001b[0m\n\u001b[0;32m    635\u001b[0m \u001b[39m# var_ordered is relevant only for categorical axis variables, and may\u001b[39;00m\n\u001b[0;32m    636\u001b[0m \u001b[39m# be better handled by an internal axis information object that tracks\u001b[39;00m\n\u001b[0;32m    637\u001b[0m \u001b[39m# such information and is set up by the scale_* methods. The analogous\u001b[39;00m\n\u001b[0;32m    638\u001b[0m \u001b[39m# information for numeric axes would be information about log scales.\u001b[39;00m\n\u001b[0;32m    639\u001b[0m \u001b[39mself\u001b[39m\u001b[39m.\u001b[39m_var_ordered \u001b[39m=\u001b[39m {\u001b[39m\"\u001b[39m\u001b[39mx\u001b[39m\u001b[39m\"\u001b[39m: \u001b[39mFalse\u001b[39;00m, \u001b[39m\"\u001b[39m\u001b[39my\u001b[39m\u001b[39m\"\u001b[39m: \u001b[39mFalse\u001b[39;00m}  \u001b[39m# alt., used DefaultDict\u001b[39;00m\n\u001b[1;32m--> 640\u001b[0m \u001b[39mself\u001b[39;49m\u001b[39m.\u001b[39;49massign_variables(data, variables)\n\u001b[0;32m    642\u001b[0m \u001b[39mfor\u001b[39;00m var, \u001b[39mcls\u001b[39m \u001b[39min\u001b[39;00m \u001b[39mself\u001b[39m\u001b[39m.\u001b[39m_semantic_mappings\u001b[39m.\u001b[39mitems():\n\u001b[0;32m    643\u001b[0m \n\u001b[0;32m    644\u001b[0m     \u001b[39m# Create the mapping function\u001b[39;00m\n\u001b[0;32m    645\u001b[0m     map_func \u001b[39m=\u001b[39m partial(\u001b[39mcls\u001b[39m\u001b[39m.\u001b[39mmap, plotter\u001b[39m=\u001b[39m\u001b[39mself\u001b[39m)\n",
      "File \u001b[1;32mc:\\Users\\PcLaptop\\AppData\\Local\\Programs\\Python\\Python311\\Lib\\site-packages\\seaborn\\_oldcore.py:696\u001b[0m, in \u001b[0;36mVectorPlotter.assign_variables\u001b[1;34m(self, data, variables)\u001b[0m\n\u001b[0;32m    694\u001b[0m \u001b[39mif\u001b[39;00m x \u001b[39mis\u001b[39;00m \u001b[39mNone\u001b[39;00m \u001b[39mand\u001b[39;00m y \u001b[39mis\u001b[39;00m \u001b[39mNone\u001b[39;00m:\n\u001b[0;32m    695\u001b[0m     \u001b[39mself\u001b[39m\u001b[39m.\u001b[39minput_format \u001b[39m=\u001b[39m \u001b[39m\"\u001b[39m\u001b[39mwide\u001b[39m\u001b[39m\"\u001b[39m\n\u001b[1;32m--> 696\u001b[0m     plot_data, variables \u001b[39m=\u001b[39m \u001b[39mself\u001b[39;49m\u001b[39m.\u001b[39;49m_assign_variables_wideform(\n\u001b[0;32m    697\u001b[0m         data, \u001b[39m*\u001b[39;49m\u001b[39m*\u001b[39;49mvariables,\n\u001b[0;32m    698\u001b[0m     )\n\u001b[0;32m    699\u001b[0m \u001b[39melse\u001b[39;00m:\n\u001b[0;32m    700\u001b[0m     \u001b[39mself\u001b[39m\u001b[39m.\u001b[39minput_format \u001b[39m=\u001b[39m \u001b[39m\"\u001b[39m\u001b[39mlong\u001b[39m\u001b[39m\"\u001b[39m\n",
      "File \u001b[1;32mc:\\Users\\PcLaptop\\AppData\\Local\\Programs\\Python\\Python311\\Lib\\site-packages\\seaborn\\_oldcore.py:755\u001b[0m, in \u001b[0;36mVectorPlotter._assign_variables_wideform\u001b[1;34m(self, data, **kwargs)\u001b[0m\n\u001b[0;32m    753\u001b[0m \u001b[39melse\u001b[39;00m:\n\u001b[0;32m    754\u001b[0m     values \u001b[39m=\u001b[39m np\u001b[39m.\u001b[39matleast_1d(np\u001b[39m.\u001b[39masarray(data, dtype\u001b[39m=\u001b[39m\u001b[39mobject\u001b[39m))\n\u001b[1;32m--> 755\u001b[0m flat \u001b[39m=\u001b[39m \u001b[39mnot\u001b[39;00m \u001b[39many\u001b[39m(\n\u001b[0;32m    756\u001b[0m     \u001b[39misinstance\u001b[39m(v, Iterable) \u001b[39mand\u001b[39;00m \u001b[39mnot\u001b[39;00m \u001b[39misinstance\u001b[39m(v, (\u001b[39mstr\u001b[39m, \u001b[39mbytes\u001b[39m))\n\u001b[0;32m    757\u001b[0m     \u001b[39mfor\u001b[39;00m v \u001b[39min\u001b[39;00m values\n\u001b[0;32m    758\u001b[0m )\n\u001b[0;32m    760\u001b[0m \u001b[39mif\u001b[39;00m empty:\n\u001b[0;32m    761\u001b[0m \n\u001b[0;32m    762\u001b[0m     \u001b[39m# Make an object with the structure of plot_data, but empty\u001b[39;00m\n\u001b[0;32m    763\u001b[0m     plot_data \u001b[39m=\u001b[39m pd\u001b[39m.\u001b[39mDataFrame()\n",
      "File \u001b[1;32mc:\\Users\\PcLaptop\\AppData\\Local\\Programs\\Python\\Python311\\Lib\\site-packages\\seaborn\\_oldcore.py:755\u001b[0m, in \u001b[0;36m<genexpr>\u001b[1;34m(.0)\u001b[0m\n\u001b[0;32m    753\u001b[0m \u001b[39melse\u001b[39;00m:\n\u001b[0;32m    754\u001b[0m     values \u001b[39m=\u001b[39m np\u001b[39m.\u001b[39matleast_1d(np\u001b[39m.\u001b[39masarray(data, dtype\u001b[39m=\u001b[39m\u001b[39mobject\u001b[39m))\n\u001b[1;32m--> 755\u001b[0m flat \u001b[39m=\u001b[39m \u001b[39mnot\u001b[39;00m \u001b[39many\u001b[39m(\n\u001b[0;32m    756\u001b[0m     \u001b[39misinstance\u001b[39m(v, Iterable) \u001b[39mand\u001b[39;00m \u001b[39mnot\u001b[39;00m \u001b[39misinstance\u001b[39m(v, (\u001b[39mstr\u001b[39m, \u001b[39mbytes\u001b[39m))\n\u001b[0;32m    757\u001b[0m     \u001b[39mfor\u001b[39;00m v \u001b[39min\u001b[39;00m values\n\u001b[0;32m    758\u001b[0m )\n\u001b[0;32m    760\u001b[0m \u001b[39mif\u001b[39;00m empty:\n\u001b[0;32m    761\u001b[0m \n\u001b[0;32m    762\u001b[0m     \u001b[39m# Make an object with the structure of plot_data, but empty\u001b[39;00m\n\u001b[0;32m    763\u001b[0m     plot_data \u001b[39m=\u001b[39m pd\u001b[39m.\u001b[39mDataFrame()\n",
      "\u001b[1;31mKeyboardInterrupt\u001b[0m: "
     ]
    },
    {
     "data": {
      "image/png": "[encoded data removed]",
      "text/plain": [
       "<Figure size 640x480 with 1 Axes>"
      ]
     },
     "metadata": {},
     "output_type": "display_data"
    }
   ],
   "source": [
    "cols = sns.color_palette(\"husl\", 12)\n",
    "size_max = 21\n",
    "size_min = 5\n",
    "\n",
    "for i, y1 in enumerate(range(1990,2014,2)):    \n",
    "    df1 = over[str(y1)].flatten()\n",
    "    df1=df1[~np.isnan(df1)]\n",
    "    sns.histplot(df1, kde = True, bins = np.array(range(size_min - size_max, size_max - size_min))- 0.5, \n",
    "                 stat = \"probability\", label = str(y1), color = cols[i], alpha = 0.5)\n",
    "plt.legend()"
   ]
  },
  {
   "cell_type": "code",
   "execution_count": null,
   "id": "6161b745",
   "metadata": {},
   "outputs": [],
   "source": []
  }
 ],
 "metadata": {
  "kernelspec": {
   "display_name": "Python 3 (ipykernel)",
   "language": "python",
   "name": "python3"
  },
  "language_info": {
   "codemirror_mode": {
    "name": "ipython",
    "version": 3
   },
   "file_extension": ".py",
   "mimetype": "text/x-python",
   "name": "python",
   "nbconvert_exporter": "python",
   "pygments_lexer": "ipython3",
   "version": "3.11.1"
  }
 },
 "nbformat": 4,
 "nbformat_minor": 5
}
