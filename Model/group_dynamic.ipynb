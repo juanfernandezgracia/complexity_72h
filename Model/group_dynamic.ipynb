{
 "cells": [
  {
   "cell_type": "code",
   "execution_count": 267,
   "id": "7e82c59d",
   "metadata": {},
   "outputs": [],
   "source": [
    "import pandas as pd\n",
    "import pickle as pk\n",
    "import seaborn as sns\n",
    "import matplotlib.pyplot as plt\n",
    "from collections import Counter\n",
    "import numpy as np\n",
    "from tqdm import tqdm"
   ]
  },
  {
   "cell_type": "code",
   "execution_count": 268,
   "id": "e07797db",
   "metadata": {},
   "outputs": [],
   "source": [
    "df = pd.read_pickle(\"./Outcomes/Min_model.pkl\")"
   ]
  },
  {
   "cell_type": "code",
   "execution_count": 269,
   "id": "7100c90e",
   "metadata": {},
   "outputs": [
    {
     "data": {
      "text/html": [
       "<div>\n",
       "<style scoped>\n",
       "    .dataframe tbody tr th:only-of-type {\n",
       "        vertical-align: middle;\n",
       "    }\n",
       "\n",
       "    .dataframe tbody tr th {\n",
       "        vertical-align: top;\n",
       "    }\n",
       "\n",
       "    .dataframe thead th {\n",
       "        text-align: right;\n",
       "    }\n",
       "</style>\n",
       "<table border=\"1\" class=\"dataframe\">\n",
       "  <thead>\n",
       "    <tr style=\"text-align: right;\">\n",
       "      <th></th>\n",
       "      <th>Time</th>\n",
       "      <th>Simplices</th>\n",
       "    </tr>\n",
       "  </thead>\n",
       "  <tbody>\n",
       "    <tr>\n",
       "      <th>0</th>\n",
       "      <td>0</td>\n",
       "      <td>[287, 940, 4]</td>\n",
       "    </tr>\n",
       "    <tr>\n",
       "      <th>1</th>\n",
       "      <td>0</td>\n",
       "      <td>[772, 748, 476]</td>\n",
       "    </tr>\n",
       "    <tr>\n",
       "      <th>2</th>\n",
       "      <td>0</td>\n",
       "      <td>[964, 353, 832]</td>\n",
       "    </tr>\n",
       "    <tr>\n",
       "      <th>3</th>\n",
       "      <td>0</td>\n",
       "      <td>[513, 411, 863]</td>\n",
       "    </tr>\n",
       "    <tr>\n",
       "      <th>4</th>\n",
       "      <td>0</td>\n",
       "      <td>[500, 101, 946]</td>\n",
       "    </tr>\n",
       "    <tr>\n",
       "      <th>...</th>\n",
       "      <td>...</td>\n",
       "      <td>...</td>\n",
       "    </tr>\n",
       "    <tr>\n",
       "      <th>3520</th>\n",
       "      <td>99</td>\n",
       "      <td>[536, 465, 391, 232, 236, 634, 271, 815, 70, 981]</td>\n",
       "    </tr>\n",
       "    <tr>\n",
       "      <th>3521</th>\n",
       "      <td>99</td>\n",
       "      <td>[83, 610, 734, 916, 655, 670, 449, 68, 745, 83...</td>\n",
       "    </tr>\n",
       "    <tr>\n",
       "      <th>3522</th>\n",
       "      <td>99</td>\n",
       "      <td>[410, 623, 607, 293, 372, 821, 242, 553, 610, ...</td>\n",
       "    </tr>\n",
       "    <tr>\n",
       "      <th>3523</th>\n",
       "      <td>99</td>\n",
       "      <td>[392, 140, 370, 958, 624, 235, 469, 959, 434, ...</td>\n",
       "    </tr>\n",
       "    <tr>\n",
       "      <th>3524</th>\n",
       "      <td>99</td>\n",
       "      <td>[122, 976, 977, 946, 409, 537, 23, 216, 26, 61...</td>\n",
       "    </tr>\n",
       "  </tbody>\n",
       "</table>\n",
       "<p>3525 rows × 2 columns</p>\n",
       "</div>"
      ],
      "text/plain": [
       "      Time                                          Simplices\n",
       "0        0                                      [287, 940, 4]\n",
       "1        0                                    [772, 748, 476]\n",
       "2        0                                    [964, 353, 832]\n",
       "3        0                                    [513, 411, 863]\n",
       "4        0                                    [500, 101, 946]\n",
       "...    ...                                                ...\n",
       "3520    99  [536, 465, 391, 232, 236, 634, 271, 815, 70, 981]\n",
       "3521    99  [83, 610, 734, 916, 655, 670, 449, 68, 745, 83...\n",
       "3522    99  [410, 623, 607, 293, 372, 821, 242, 553, 610, ...\n",
       "3523    99  [392, 140, 370, 958, 624, 235, 469, 959, 434, ...\n",
       "3524    99  [122, 976, 977, 946, 409, 537, 23, 216, 26, 61...\n",
       "\n",
       "[3525 rows x 2 columns]"
      ]
     },
     "execution_count": 269,
     "metadata": {},
     "output_type": "execute_result"
    }
   ],
   "source": [
    "df"
   ]
  },
  {
   "cell_type": "code",
   "execution_count": 270,
   "id": "2aa85c84",
   "metadata": {},
   "outputs": [],
   "source": [
    "# We truncate the Time column to integer values\n",
    "df[\"Time\"] = df[\"Time\"].astype(int)"
   ]
  },
  {
   "cell_type": "code",
   "execution_count": 271,
   "id": "280f3619",
   "metadata": {},
   "outputs": [],
   "source": [
    "df[\"Size\"] = df[\"Simplices\"].apply(lambda x : len(x))"
   ]
  },
  {
   "cell_type": "code",
   "execution_count": 272,
   "id": "1fcb29c4",
   "metadata": {},
   "outputs": [],
   "source": [
    "av_size=df.groupby('Time')['Size'].mean()"
   ]
  },
  {
   "cell_type": "code",
   "execution_count": 273,
   "id": "69b55b5a",
   "metadata": {},
   "outputs": [],
   "source": [
    "av_size=av_size.to_frame().reset_index()"
   ]
  },
  {
   "cell_type": "code",
   "execution_count": 274,
   "id": "b34ad433",
   "metadata": {},
   "outputs": [],
   "source": [
    "av_size=av_size[av_size['Time']>=1980]"
   ]
  },
  {
   "cell_type": "code",
   "execution_count": 275,
   "id": "64b0c525",
   "metadata": {},
   "outputs": [
    {
     "data": {
      "text/html": [
       "<div>\n",
       "<style scoped>\n",
       "    .dataframe tbody tr th:only-of-type {\n",
       "        vertical-align: middle;\n",
       "    }\n",
       "\n",
       "    .dataframe tbody tr th {\n",
       "        vertical-align: top;\n",
       "    }\n",
       "\n",
       "    .dataframe thead th {\n",
       "        text-align: right;\n",
       "    }\n",
       "</style>\n",
       "<table border=\"1\" class=\"dataframe\">\n",
       "  <thead>\n",
       "    <tr style=\"text-align: right;\">\n",
       "      <th></th>\n",
       "      <th>Time</th>\n",
       "      <th>Simplices</th>\n",
       "      <th>Size</th>\n",
       "    </tr>\n",
       "  </thead>\n",
       "  <tbody>\n",
       "    <tr>\n",
       "      <th>17</th>\n",
       "      <td>0</td>\n",
       "      <td>[21, 87, 599, 207, 480, 175, 668]</td>\n",
       "      <td>7</td>\n",
       "    </tr>\n",
       "    <tr>\n",
       "      <th>18</th>\n",
       "      <td>0</td>\n",
       "      <td>[680, 714, 894, 567, 242, 4, 213, 731]</td>\n",
       "      <td>8</td>\n",
       "    </tr>\n",
       "    <tr>\n",
       "      <th>19</th>\n",
       "      <td>0</td>\n",
       "      <td>[788, 623, 938, 894, 34, 644, 515, 965]</td>\n",
       "      <td>8</td>\n",
       "    </tr>\n",
       "    <tr>\n",
       "      <th>20</th>\n",
       "      <td>0</td>\n",
       "      <td>[637, 153, 692, 827, 380, 512, 633, 978]</td>\n",
       "      <td>8</td>\n",
       "    </tr>\n",
       "    <tr>\n",
       "      <th>21</th>\n",
       "      <td>0</td>\n",
       "      <td>[995, 511, 167, 562, 1, 914, 92, 988]</td>\n",
       "      <td>8</td>\n",
       "    </tr>\n",
       "    <tr>\n",
       "      <th>...</th>\n",
       "      <td>...</td>\n",
       "      <td>...</td>\n",
       "      <td>...</td>\n",
       "    </tr>\n",
       "    <tr>\n",
       "      <th>3520</th>\n",
       "      <td>99</td>\n",
       "      <td>[536, 465, 391, 232, 236, 634, 271, 815, 70, 981]</td>\n",
       "      <td>10</td>\n",
       "    </tr>\n",
       "    <tr>\n",
       "      <th>3521</th>\n",
       "      <td>99</td>\n",
       "      <td>[83, 610, 734, 916, 655, 670, 449, 68, 745, 83...</td>\n",
       "      <td>11</td>\n",
       "    </tr>\n",
       "    <tr>\n",
       "      <th>3522</th>\n",
       "      <td>99</td>\n",
       "      <td>[410, 623, 607, 293, 372, 821, 242, 553, 610, ...</td>\n",
       "      <td>11</td>\n",
       "    </tr>\n",
       "    <tr>\n",
       "      <th>3523</th>\n",
       "      <td>99</td>\n",
       "      <td>[392, 140, 370, 958, 624, 235, 469, 959, 434, ...</td>\n",
       "      <td>11</td>\n",
       "    </tr>\n",
       "    <tr>\n",
       "      <th>3524</th>\n",
       "      <td>99</td>\n",
       "      <td>[122, 976, 977, 946, 409, 537, 23, 216, 26, 61...</td>\n",
       "      <td>11</td>\n",
       "    </tr>\n",
       "  </tbody>\n",
       "</table>\n",
       "<p>1938 rows × 3 columns</p>\n",
       "</div>"
      ],
      "text/plain": [
       "      Time                                          Simplices  Size\n",
       "17       0                  [21, 87, 599, 207, 480, 175, 668]     7\n",
       "18       0             [680, 714, 894, 567, 242, 4, 213, 731]     8\n",
       "19       0            [788, 623, 938, 894, 34, 644, 515, 965]     8\n",
       "20       0           [637, 153, 692, 827, 380, 512, 633, 978]     8\n",
       "21       0              [995, 511, 167, 562, 1, 914, 92, 988]     8\n",
       "...    ...                                                ...   ...\n",
       "3520    99  [536, 465, 391, 232, 236, 634, 271, 815, 70, 981]    10\n",
       "3521    99  [83, 610, 734, 916, 655, 670, 449, 68, 745, 83...    11\n",
       "3522    99  [410, 623, 607, 293, 372, 821, 242, 553, 610, ...    11\n",
       "3523    99  [392, 140, 370, 958, 624, 235, 469, 959, 434, ...    11\n",
       "3524    99  [122, 976, 977, 946, 409, 537, 23, 216, 26, 61...    11\n",
       "\n",
       "[1938 rows x 3 columns]"
      ]
     },
     "execution_count": 275,
     "metadata": {},
     "output_type": "execute_result"
    }
   ],
   "source": [
    "df = df[df[\"Size\"] > 6]\n",
    "df"
   ]
  },
  {
   "cell_type": "code",
   "execution_count": 276,
   "id": "405baa41",
   "metadata": {},
   "outputs": [],
   "source": [
    "y1 = 0\n",
    "y2 = 99\n",
    "size_max = 21\n",
    "size_min = 6"
   ]
  },
  {
   "cell_type": "code",
   "execution_count": 277,
   "id": "26a16c87",
   "metadata": {},
   "outputs": [
    {
     "data": {
      "text/plain": [
       "13"
      ]
     },
     "execution_count": 277,
     "metadata": {},
     "output_type": "execute_result"
    }
   ],
   "source": [
    "l1 = list(df[(df[\"Time\"]==y1) & (df[\"Size\"]<size_max ) & (df[\"Size\"]>=size_min)][\"Simplices\"])\n",
    "l2 = list(df[(df[\"Time\"]==y2) & (df[\"Size\"]<size_max ) & (df[\"Size\"]>=size_min)][\"Simplices\"])\n",
    "len(l2)"
   ]
  },
  {
   "cell_type": "code",
   "execution_count": 278,
   "id": "c5c04be1",
   "metadata": {},
   "outputs": [],
   "source": [
    "over = np.zeros((len(l1),len(l2)))\n",
    "inclusion = np.zeros((len(l1),len(l2)))"
   ]
  },
  {
   "cell_type": "code",
   "execution_count": 279,
   "id": "2b97d49c",
   "metadata": {},
   "outputs": [],
   "source": [
    "def overlap_size(a,b):\n",
    "    return len(a & b)/len(a | b)\n",
    "\n",
    "def inclusion_size(a,b):\n",
    "    if b.issubset(a):\n",
    "        return len(b) - len(a)\n",
    "    elif a.issubset(b):\n",
    "        return len(b) - len(a)\n",
    "    else:\n",
    "        return np.nan"
   ]
  },
  {
   "cell_type": "code",
   "execution_count": 283,
   "id": "570be5d1",
   "metadata": {},
   "outputs": [
    {
     "name": "stdout",
     "output_type": "stream",
     "text": [
      "0\n"
     ]
    },
    {
     "name": "stderr",
     "output_type": "stream",
     "text": [
      "100%|██████████| 17/17 [00:00<00:00, 9118.05it/s]\n"
     ]
    },
    {
     "name": "stdout",
     "output_type": "stream",
     "text": [
      "2\n"
     ]
    },
    {
     "name": "stderr",
     "output_type": "stream",
     "text": [
      "100%|██████████| 17/17 [00:00<00:00, 16357.69it/s]\n"
     ]
    },
    {
     "name": "stdout",
     "output_type": "stream",
     "text": [
      "4\n"
     ]
    },
    {
     "name": "stderr",
     "output_type": "stream",
     "text": [
      "100%|██████████| 17/17 [00:00<00:00, 10836.35it/s]\n"
     ]
    },
    {
     "name": "stdout",
     "output_type": "stream",
     "text": [
      "6\n"
     ]
    },
    {
     "name": "stderr",
     "output_type": "stream",
     "text": [
      "100%|██████████| 26/26 [00:00<00:00, 12741.20it/s]\n"
     ]
    },
    {
     "name": "stdout",
     "output_type": "stream",
     "text": [
      "8\n"
     ]
    },
    {
     "name": "stderr",
     "output_type": "stream",
     "text": [
      "100%|██████████| 17/17 [00:00<00:00, 10949.50it/s]\n"
     ]
    },
    {
     "name": "stdout",
     "output_type": "stream",
     "text": [
      "10\n"
     ]
    },
    {
     "name": "stderr",
     "output_type": "stream",
     "text": [
      "100%|██████████| 18/18 [00:00<00:00, 19443.08it/s]\n"
     ]
    },
    {
     "name": "stdout",
     "output_type": "stream",
     "text": [
      "12\n"
     ]
    },
    {
     "name": "stderr",
     "output_type": "stream",
     "text": [
      "100%|██████████| 13/13 [00:00<00:00, 16379.08it/s]\n"
     ]
    },
    {
     "name": "stdout",
     "output_type": "stream",
     "text": [
      "14\n"
     ]
    },
    {
     "name": "stderr",
     "output_type": "stream",
     "text": [
      "100%|██████████| 11/11 [00:00<00:00, 15524.01it/s]\n"
     ]
    },
    {
     "name": "stdout",
     "output_type": "stream",
     "text": [
      "16\n"
     ]
    },
    {
     "name": "stderr",
     "output_type": "stream",
     "text": [
      "100%|██████████| 21/21 [00:00<00:00, 13536.25it/s]\n"
     ]
    },
    {
     "name": "stdout",
     "output_type": "stream",
     "text": [
      "18\n"
     ]
    },
    {
     "name": "stderr",
     "output_type": "stream",
     "text": [
      "100%|██████████| 17/17 [00:00<00:00, 15113.01it/s]\n"
     ]
    },
    {
     "name": "stdout",
     "output_type": "stream",
     "text": [
      "20\n"
     ]
    },
    {
     "name": "stderr",
     "output_type": "stream",
     "text": [
      "100%|██████████| 16/16 [00:00<00:00, 12120.08it/s]\n"
     ]
    },
    {
     "name": "stdout",
     "output_type": "stream",
     "text": [
      "22\n"
     ]
    },
    {
     "name": "stderr",
     "output_type": "stream",
     "text": [
      "100%|██████████| 20/20 [00:00<00:00, 10462.22it/s]\n"
     ]
    },
    {
     "name": "stdout",
     "output_type": "stream",
     "text": [
      "24\n"
     ]
    },
    {
     "name": "stderr",
     "output_type": "stream",
     "text": [
      "100%|██████████| 17/17 [00:00<00:00, 11991.79it/s]\n"
     ]
    },
    {
     "name": "stdout",
     "output_type": "stream",
     "text": [
      "26\n"
     ]
    },
    {
     "name": "stderr",
     "output_type": "stream",
     "text": [
      "100%|██████████| 21/21 [00:00<00:00, 14411.06it/s]\n"
     ]
    },
    {
     "name": "stdout",
     "output_type": "stream",
     "text": [
      "28\n"
     ]
    },
    {
     "name": "stderr",
     "output_type": "stream",
     "text": [
      "100%|██████████| 21/21 [00:00<00:00, 15339.67it/s]\n"
     ]
    },
    {
     "name": "stdout",
     "output_type": "stream",
     "text": [
      "30\n"
     ]
    },
    {
     "name": "stderr",
     "output_type": "stream",
     "text": [
      "100%|██████████| 15/15 [00:00<00:00, 13411.76it/s]\n"
     ]
    },
    {
     "name": "stdout",
     "output_type": "stream",
     "text": [
      "32\n"
     ]
    },
    {
     "name": "stderr",
     "output_type": "stream",
     "text": [
      "100%|██████████| 18/18 [00:00<00:00, 6797.90it/s]\n"
     ]
    },
    {
     "name": "stdout",
     "output_type": "stream",
     "text": [
      "34\n"
     ]
    },
    {
     "name": "stderr",
     "output_type": "stream",
     "text": [
      "100%|██████████| 28/28 [00:00<00:00, 12640.24it/s]\n"
     ]
    },
    {
     "name": "stdout",
     "output_type": "stream",
     "text": [
      "36\n"
     ]
    },
    {
     "name": "stderr",
     "output_type": "stream",
     "text": [
      "100%|██████████| 14/14 [00:00<00:00, 15196.75it/s]\n"
     ]
    },
    {
     "name": "stdout",
     "output_type": "stream",
     "text": [
      "38\n"
     ]
    },
    {
     "name": "stderr",
     "output_type": "stream",
     "text": [
      "100%|██████████| 15/15 [00:00<00:00, 14334.60it/s]\n"
     ]
    },
    {
     "name": "stdout",
     "output_type": "stream",
     "text": [
      "40\n"
     ]
    },
    {
     "name": "stderr",
     "output_type": "stream",
     "text": [
      "100%|██████████| 14/14 [00:00<00:00, 11591.05it/s]\n"
     ]
    },
    {
     "name": "stdout",
     "output_type": "stream",
     "text": [
      "42\n"
     ]
    },
    {
     "name": "stderr",
     "output_type": "stream",
     "text": [
      "100%|██████████| 19/19 [00:00<00:00, 12494.79it/s]\n"
     ]
    },
    {
     "name": "stdout",
     "output_type": "stream",
     "text": [
      "44\n"
     ]
    },
    {
     "name": "stderr",
     "output_type": "stream",
     "text": [
      "100%|██████████| 26/26 [00:00<00:00, 11786.85it/s]\n"
     ]
    },
    {
     "name": "stdout",
     "output_type": "stream",
     "text": [
      "46\n"
     ]
    },
    {
     "name": "stderr",
     "output_type": "stream",
     "text": [
      "100%|██████████| 20/20 [00:00<00:00, 15468.57it/s]\n"
     ]
    },
    {
     "name": "stdout",
     "output_type": "stream",
     "text": [
      "48\n"
     ]
    },
    {
     "name": "stderr",
     "output_type": "stream",
     "text": [
      "100%|██████████| 23/23 [00:00<00:00, 10603.32it/s]\n"
     ]
    },
    {
     "name": "stdout",
     "output_type": "stream",
     "text": [
      "50\n"
     ]
    },
    {
     "name": "stderr",
     "output_type": "stream",
     "text": [
      "100%|██████████| 25/25 [00:00<00:00, 12245.43it/s]\n"
     ]
    },
    {
     "name": "stdout",
     "output_type": "stream",
     "text": [
      "52\n"
     ]
    },
    {
     "name": "stderr",
     "output_type": "stream",
     "text": [
      "100%|██████████| 19/19 [00:00<00:00, 15272.48it/s]\n"
     ]
    },
    {
     "name": "stdout",
     "output_type": "stream",
     "text": [
      "54\n"
     ]
    },
    {
     "name": "stderr",
     "output_type": "stream",
     "text": [
      "100%|██████████| 17/17 [00:00<00:00, 10471.90it/s]\n"
     ]
    },
    {
     "name": "stdout",
     "output_type": "stream",
     "text": [
      "56\n"
     ]
    },
    {
     "name": "stderr",
     "output_type": "stream",
     "text": [
      "100%|██████████| 13/13 [00:00<00:00, 12250.27it/s]\n"
     ]
    },
    {
     "name": "stdout",
     "output_type": "stream",
     "text": [
      "58\n"
     ]
    },
    {
     "name": "stderr",
     "output_type": "stream",
     "text": [
      "100%|██████████| 33/33 [00:00<00:00, 15867.48it/s]\n"
     ]
    },
    {
     "name": "stdout",
     "output_type": "stream",
     "text": [
      "60\n"
     ]
    },
    {
     "name": "stderr",
     "output_type": "stream",
     "text": [
      "100%|██████████| 21/21 [00:00<00:00, 16191.25it/s]\n"
     ]
    },
    {
     "name": "stdout",
     "output_type": "stream",
     "text": [
      "62\n"
     ]
    },
    {
     "name": "stderr",
     "output_type": "stream",
     "text": [
      "100%|██████████| 24/24 [00:00<00:00, 13736.80it/s]\n"
     ]
    },
    {
     "name": "stdout",
     "output_type": "stream",
     "text": [
      "64\n"
     ]
    },
    {
     "name": "stderr",
     "output_type": "stream",
     "text": [
      "100%|██████████| 19/19 [00:00<00:00, 11167.57it/s]\n"
     ]
    },
    {
     "name": "stdout",
     "output_type": "stream",
     "text": [
      "66\n"
     ]
    },
    {
     "name": "stderr",
     "output_type": "stream",
     "text": [
      "100%|██████████| 19/19 [00:00<00:00, 16008.79it/s]\n"
     ]
    },
    {
     "name": "stdout",
     "output_type": "stream",
     "text": [
      "68\n"
     ]
    },
    {
     "name": "stderr",
     "output_type": "stream",
     "text": [
      "100%|██████████| 14/14 [00:00<00:00, 9354.83it/s]\n"
     ]
    },
    {
     "name": "stdout",
     "output_type": "stream",
     "text": [
      "70\n"
     ]
    },
    {
     "name": "stderr",
     "output_type": "stream",
     "text": [
      "100%|██████████| 18/18 [00:00<00:00, 15151.01it/s]\n"
     ]
    },
    {
     "name": "stdout",
     "output_type": "stream",
     "text": [
      "72\n"
     ]
    },
    {
     "name": "stderr",
     "output_type": "stream",
     "text": [
      "100%|██████████| 20/20 [00:00<00:00, 16727.03it/s]\n"
     ]
    },
    {
     "name": "stdout",
     "output_type": "stream",
     "text": [
      "74\n"
     ]
    },
    {
     "name": "stderr",
     "output_type": "stream",
     "text": [
      "100%|██████████| 23/23 [00:00<00:00, 12860.82it/s]\n"
     ]
    },
    {
     "name": "stdout",
     "output_type": "stream",
     "text": [
      "76\n"
     ]
    },
    {
     "name": "stderr",
     "output_type": "stream",
     "text": [
      "100%|██████████| 24/24 [00:00<00:00, 10095.61it/s]\n"
     ]
    },
    {
     "name": "stdout",
     "output_type": "stream",
     "text": [
      "78\n"
     ]
    },
    {
     "name": "stderr",
     "output_type": "stream",
     "text": [
      "100%|██████████| 20/20 [00:00<00:00, 11623.40it/s]\n"
     ]
    },
    {
     "name": "stdout",
     "output_type": "stream",
     "text": [
      "80\n"
     ]
    },
    {
     "name": "stderr",
     "output_type": "stream",
     "text": [
      "100%|██████████| 16/16 [00:00<00:00, 13273.11it/s]\n"
     ]
    },
    {
     "name": "stdout",
     "output_type": "stream",
     "text": [
      "82\n"
     ]
    },
    {
     "name": "stderr",
     "output_type": "stream",
     "text": [
      "100%|██████████| 22/22 [00:00<00:00, 15156.81it/s]\n"
     ]
    },
    {
     "name": "stdout",
     "output_type": "stream",
     "text": [
      "84\n"
     ]
    },
    {
     "name": "stderr",
     "output_type": "stream",
     "text": [
      "100%|██████████| 18/18 [00:00<00:00, 17015.43it/s]\n"
     ]
    },
    {
     "name": "stdout",
     "output_type": "stream",
     "text": [
      "86\n"
     ]
    },
    {
     "name": "stderr",
     "output_type": "stream",
     "text": [
      "100%|██████████| 16/16 [00:00<00:00, 14054.21it/s]\n"
     ]
    },
    {
     "name": "stdout",
     "output_type": "stream",
     "text": [
      "88\n"
     ]
    },
    {
     "name": "stderr",
     "output_type": "stream",
     "text": [
      "100%|██████████| 19/19 [00:00<00:00, 17792.31it/s]\n"
     ]
    },
    {
     "name": "stdout",
     "output_type": "stream",
     "text": [
      "90\n"
     ]
    },
    {
     "name": "stderr",
     "output_type": "stream",
     "text": [
      "100%|██████████| 27/27 [00:00<00:00, 12815.01it/s]\n"
     ]
    },
    {
     "name": "stdout",
     "output_type": "stream",
     "text": [
      "92\n"
     ]
    },
    {
     "name": "stderr",
     "output_type": "stream",
     "text": [
      "100%|██████████| 17/17 [00:00<00:00, 24121.50it/s]\n"
     ]
    },
    {
     "name": "stdout",
     "output_type": "stream",
     "text": [
      "94\n"
     ]
    },
    {
     "name": "stderr",
     "output_type": "stream",
     "text": [
      "100%|██████████| 21/21 [00:00<00:00, 16475.94it/s]\n"
     ]
    },
    {
     "name": "stdout",
     "output_type": "stream",
     "text": [
      "96\n"
     ]
    },
    {
     "name": "stderr",
     "output_type": "stream",
     "text": [
      "100%|██████████| 21/21 [00:00<00:00, 13897.19it/s]\n"
     ]
    },
    {
     "name": "stdout",
     "output_type": "stream",
     "text": [
      "98\n"
     ]
    },
    {
     "name": "stderr",
     "output_type": "stream",
     "text": [
      "100%|██████████| 11/11 [00:00<00:00, 18221.70it/s]\n"
     ]
    }
   ],
   "source": [
    "dict_inc = {}\n",
    "dict_over = {}\n",
    "\n",
    "ran = range(0,100,2)\n",
    "\n",
    "for k,y1 in enumerate(ran):\n",
    "    size_max = 21\n",
    "    size_min = 5\n",
    "    print(y1)\n",
    "    y2 = y1+1\n",
    "    l1 = list(df[(df[\"Time\"]==y1) & (df[\"Size\"]<size_max ) & (df[\"Size\"]>=size_min)][\"Simplices\"])\n",
    "    l2 = list(df[(df[\"Time\"]==y2) & (df[\"Size\"]<size_max ) & (df[\"Size\"]>=size_min)][\"Simplices\"])\n",
    "    over = np.zeros((len(l1),len(l2)))\n",
    "    inclusion = np.zeros((len(l1),len(l2)))\n",
    "\n",
    "    for i, s1 in tqdm(enumerate(l1), total = len(l1)):\n",
    "        for j, s2 in enumerate(l2):\n",
    "            over[i][j] = overlap_size(set(s1),set(s2))\n",
    "            inclusion[i][j] = inclusion_size(set(s1),set(s2))\n",
    "    dict_inc[str(y1)] = inclusion\n",
    "    dict_over[str(y1)] = over"
   ]
  },
  {
   "cell_type": "code",
   "execution_count": 286,
   "id": "2cee0674",
   "metadata": {},
   "outputs": [
    {
     "ename": "KeyError",
     "evalue": "'1950'",
     "output_type": "error",
     "traceback": [
      "\u001b[0;31m---------------------------------------------------------------------------\u001b[0m",
      "\u001b[0;31mKeyError\u001b[0m                                  Traceback (most recent call last)",
      "\u001b[1;32m/home/david/IDEAL/complexity_72h/Model/group_dynamic.ipynb Cell 15\u001b[0m in \u001b[0;36m<cell line: 3>\u001b[0;34m()\u001b[0m\n\u001b[1;32m      <a href='vscode-notebook-cell://ssh-remote%2Bslurm01/home/david/IDEAL/complexity_72h/Model/group_dynamic.ipynb#X14sdnNjb2RlLXJlbW90ZQ%3D%3D?line=1'>2</a>\u001b[0m stds\u001b[39m=\u001b[39m np\u001b[39m.\u001b[39mzeros(\u001b[39mlen\u001b[39m(ran))\n\u001b[1;32m      <a href='vscode-notebook-cell://ssh-remote%2Bslurm01/home/david/IDEAL/complexity_72h/Model/group_dynamic.ipynb#X14sdnNjb2RlLXJlbW90ZQ%3D%3D?line=2'>3</a>\u001b[0m \u001b[39mfor\u001b[39;00m i, y1 \u001b[39min\u001b[39;00m \u001b[39menumerate\u001b[39m(ran):    \n\u001b[0;32m----> <a href='vscode-notebook-cell://ssh-remote%2Bslurm01/home/david/IDEAL/complexity_72h/Model/group_dynamic.ipynb#X14sdnNjb2RlLXJlbW90ZQ%3D%3D?line=3'>4</a>\u001b[0m     df2 \u001b[39m=\u001b[39m dict_inc[\u001b[39mstr\u001b[39;49m(y1)]\u001b[39m.\u001b[39mflatten()[\u001b[39m~\u001b[39mnp\u001b[39m.\u001b[39misnan(dict_over[\u001b[39mstr\u001b[39m(y1)]\u001b[39m.\u001b[39mflatten())]\n\u001b[1;32m      <a href='vscode-notebook-cell://ssh-remote%2Bslurm01/home/david/IDEAL/complexity_72h/Model/group_dynamic.ipynb#X14sdnNjb2RlLXJlbW90ZQ%3D%3D?line=4'>5</a>\u001b[0m     means[i]\u001b[39m=\u001b[39m df2\u001b[39m.\u001b[39mmean()\n\u001b[1;32m      <a href='vscode-notebook-cell://ssh-remote%2Bslurm01/home/david/IDEAL/complexity_72h/Model/group_dynamic.ipynb#X14sdnNjb2RlLXJlbW90ZQ%3D%3D?line=5'>6</a>\u001b[0m     stds[i]\u001b[39m=\u001b[39m df2\u001b[39m.\u001b[39mstd()\n",
      "\u001b[0;31mKeyError\u001b[0m: '1950'"
     ]
    }
   ],
   "source": [
    "means= np.zeros(len(ran))\n",
    "stds= np.zeros(len(ran))\n",
    "for i, y1 in enumerate(ran):    \n",
    "    df2 = dict_inc[str(y1)].flatten()[~np.isnan(dict_over[str(y1)].flatten())]\n",
    "    means[i]= df2.mean()\n",
    "    stds[i]= df2.std()"
   ]
  },
  {
   "cell_type": "code",
   "execution_count": 285,
   "id": "5c5fe71b",
   "metadata": {},
   "outputs": [
    {
     "ename": "ValueError",
     "evalue": "fp and xp are not of the same length.",
     "output_type": "error",
     "traceback": [
      "\u001b[0;31m---------------------------------------------------------------------------\u001b[0m",
      "\u001b[0;31mValueError\u001b[0m                                Traceback (most recent call last)",
      "\u001b[1;32m/home/david/IDEAL/complexity_72h/Model/group_dynamic.ipynb Cell 16\u001b[0m in \u001b[0;36m<cell line: 7>\u001b[0;34m()\u001b[0m\n\u001b[1;32m      <a href='vscode-notebook-cell://ssh-remote%2Bslurm01/home/david/IDEAL/complexity_72h/Model/group_dynamic.ipynb#X15sdnNjb2RlLXJlbW90ZQ%3D%3D?line=3'>4</a>\u001b[0m new_x \u001b[39m=\u001b[39m np\u001b[39m.\u001b[39mlinspace(\u001b[39m1950\u001b[39m, \u001b[39m2000\u001b[39m, \u001b[39m100\u001b[39m)  \u001b[39m# Adjust the number of points as needed\u001b[39;00m\n\u001b[1;32m      <a href='vscode-notebook-cell://ssh-remote%2Bslurm01/home/david/IDEAL/complexity_72h/Model/group_dynamic.ipynb#X15sdnNjb2RlLXJlbW90ZQ%3D%3D?line=5'>6</a>\u001b[0m \u001b[39m# Interpolate y-values for new_x\u001b[39;00m\n\u001b[0;32m----> <a href='vscode-notebook-cell://ssh-remote%2Bslurm01/home/david/IDEAL/complexity_72h/Model/group_dynamic.ipynb#X15sdnNjb2RlLXJlbW90ZQ%3D%3D?line=6'>7</a>\u001b[0m new_y \u001b[39m=\u001b[39m np\u001b[39m.\u001b[39;49minterp(new_x, np\u001b[39m.\u001b[39;49marray(ran), stds)\n\u001b[1;32m      <a href='vscode-notebook-cell://ssh-remote%2Bslurm01/home/david/IDEAL/complexity_72h/Model/group_dynamic.ipynb#X15sdnNjb2RlLXJlbW90ZQ%3D%3D?line=7'>8</a>\u001b[0m x\u001b[39m=\u001b[39mnp\u001b[39m.\u001b[39marray(ran)\n\u001b[1;32m      <a href='vscode-notebook-cell://ssh-remote%2Bslurm01/home/david/IDEAL/complexity_72h/Model/group_dynamic.ipynb#X15sdnNjb2RlLXJlbW90ZQ%3D%3D?line=8'>9</a>\u001b[0m y\u001b[39m=\u001b[39mstds\n",
      "File \u001b[0;32m<__array_function__ internals>:180\u001b[0m, in \u001b[0;36minterp\u001b[0;34m(*args, **kwargs)\u001b[0m\n",
      "File \u001b[0;32m~/.conda/envs/idealista/lib/python3.10/site-packages/numpy/lib/function_base.py:1570\u001b[0m, in \u001b[0;36minterp\u001b[0;34m(x, xp, fp, left, right, period)\u001b[0m\n\u001b[1;32m   1567\u001b[0m     xp \u001b[39m=\u001b[39m np\u001b[39m.\u001b[39mconcatenate((xp[\u001b[39m-\u001b[39m\u001b[39m1\u001b[39m:]\u001b[39m-\u001b[39mperiod, xp, xp[\u001b[39m0\u001b[39m:\u001b[39m1\u001b[39m]\u001b[39m+\u001b[39mperiod))\n\u001b[1;32m   1568\u001b[0m     fp \u001b[39m=\u001b[39m np\u001b[39m.\u001b[39mconcatenate((fp[\u001b[39m-\u001b[39m\u001b[39m1\u001b[39m:], fp, fp[\u001b[39m0\u001b[39m:\u001b[39m1\u001b[39m]))\n\u001b[0;32m-> 1570\u001b[0m \u001b[39mreturn\u001b[39;00m interp_func(x, xp, fp, left, right)\n",
      "\u001b[0;31mValueError\u001b[0m: fp and xp are not of the same length."
     ]
    }
   ],
   "source": [
    "from scipy.interpolate import interp1d\n",
    "from matplotlib.pyplot import errorbar\n",
    "ran = range(1950,1992,2)\n",
    "new_x = np.linspace(1950, 2000, 100)  # Adjust the number of points as needed\n",
    "\n",
    "# Interpolate y-values for new_x\n",
    "new_y = np.interp(new_x, np.array(ran), stds)\n",
    "x=np.array(ran)\n",
    "y=stds\n",
    "\n",
    "fig, ax = plt.subplots(figsize=(3,3),dpi=300)\n",
    "ax.scatter(x=x,y=y)\n",
    "\n",
    "degree = 3  # Adjust the degree of the polynomial as needed\n",
    "coefficients = np.polyfit(x, y, degree)\n",
    "curve_fit = np.poly1d(coefficients)\n",
    "\n",
    "# Evaluate the curve fit for new_x\n",
    "new_y = curve_fit(new_x)\n",
    "\n",
    "# Plot the original scatter plot\n",
    "ax.scatter(x, y, label='Original Data')\n",
    "\n",
    "\n",
    "# Plot the curve fit\n",
    "ax.plot(new_x, new_y, label='Curve Fit')\n",
    "\n",
    "# Set labels and title\n",
    "ax.set_xlabel('Year')\n",
    "ax.set_ylabel('Standard Deviation')\n",
    "#plt.title('Std')\n",
    "\n",
    "ax.spines['top'].set_visible(False)\n",
    "ax.spines['right'].set_visible(False)\n",
    "\n",
    "# Show legend\n",
    "ax.legend()\n",
    "\n",
    "# Display the plot\n",
    "plt.show()\n",
    "\n",
    "\n",
    "#errorbar(x=np.array(range(1980,2016,4)),y=means, yerr=stds)"
   ]
  },
  {
   "cell_type": "code",
   "execution_count": null,
   "id": "7772c8e2",
   "metadata": {},
   "outputs": [
    {
     "data": {
      "image/png": "[encoded data removed]",
      "text/plain": [
       "<Figure size 900x1800 with 3 Axes>"
      ]
     },
     "metadata": {
      "needs_background": "light"
     },
     "output_type": "display_data"
    }
   ],
   "source": [
    "from scipy.stats import norm\n",
    "\n",
    "size_max = 21\n",
    "size_min = 5\n",
    "\n",
    "palette=['#D81B60','#1E88E5','#FFC107','#004D40','#DF8C17']\n",
    "fig,ax=plt.subplots(nrows=3, ncols=1, sharex=True,figsize=(3,6),dpi=300,sharey=True)\n",
    "\n",
    "for i, y1 in enumerate([1980,1990,2000]):\n",
    "    df1 = dict_inc[str(y1)].flatten()\n",
    "    df1 = df1[~np.isnan(df1)]\n",
    "    sns.histplot(df1, bins=np.array(range(size_min - size_max, size_max - size_min)) - 0.5,\n",
    "                 stat=\"probability\", label=str(y1), color=palette[i], alpha=0.2, ax=ax[i])\n",
    "     # Fit Gaussian distribution to data\n",
    "    mu, std = norm.fit(df1)\n",
    "    x = np.linspace(df1.min(), df1.max(), 10)\n",
    "    y = norm.pdf(x, mu, std)\n",
    "    \n",
    "    # Plot Gaussian curve\n",
    "    ax[i].plot(x, y, '-', color=palette[i], linewidth=2)\n",
    "    ax[i].legend(frameon=False)\n",
    "    ax[i].spines['top'].set_visible(False)\n",
    "    ax[i].spines['right'].set_visible(False)\n",
    "    bar_height = max(y)/2\n",
    "    ax[i].hlines(bar_height, mu - std, mu + std, color='black', linewidth=1.5, linestyle='-')\n",
    "    ax[i].vlines([mu - std, mu + std], [bar_height-0.03, bar_height-0.03], [bar_height+0.03, bar_height+0.03], color='black', linewidth=1.5)\n",
    "\n",
    "\n",
    "plt.show()"
   ]
  },
  {
   "cell_type": "code",
   "execution_count": null,
   "id": "6161b745",
   "metadata": {},
   "outputs": [],
   "source": []
  }
 ],
 "metadata": {
  "kernelspec": {
   "display_name": "Python 3 (ipykernel)",
   "language": "python",
   "name": "python3"
  },
  "language_info": {
   "codemirror_mode": {
    "name": "ipython",
    "version": 3
   },
   "file_extension": ".py",
   "mimetype": "text/x-python",
   "name": "python",
   "nbconvert_exporter": "python",
   "pygments_lexer": "ipython3",
   "version": "3.10.4"
  }
 },
 "nbformat": 4,
 "nbformat_minor": 5
}
